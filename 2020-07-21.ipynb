{
 "cells": [
  {
   "cell_type": "code",
   "execution_count": 1,
   "metadata": {},
   "outputs": [],
   "source": [
    "class Car():\n",
    "    def __init__(self, size, color):\n",
    "        self.size = size\n",
    "        self.color = color\n",
    "        Car.instance_count += 1 #클래스 변수를 이용한다.\n",
    "        print(\"자동차 객체의 수 : {0}\".format(Car.instance_count))\n",
    "        \n",
    "    def move(self,speed):\n",
    "        self.speed = speed\n",
    "        print('자동차({0} & {1}가 움직입니다)'.format(self.size, self.color))\n",
    "        \n",
    "    def auto_cruise(self):\n",
    "        print(\"자율 주행 모드\")\n",
    "        self.move(self.speed) \n",
    "        \n",
    "    #정적 메서드\n",
    "    @staticmethod\n",
    "    def check_type(model_code):\n",
    "        if(model_code >=20 ):\n",
    "            print('이 자동차는 전기차입니다')\n",
    "        elif(10 <= model_code < 20):\n",
    "            print(\"이 자동차는 가솔린차입니다\")\n",
    "        else:\n",
    "            print('이 자동차는 디젤차입니다')\n",
    "        "
   ]
  },
  {
   "cell_type": "code",
   "execution_count": 4,
   "metadata": {},
   "outputs": [
    {
     "name": "stdout",
     "output_type": "stream",
     "text": [
      "이 자동차는 전기차입니다\n"
     ]
    }
   ],
   "source": [
    "Car.check_type(20)"
   ]
  },
  {
   "cell_type": "code",
   "execution_count": 5,
   "metadata": {},
   "outputs": [
    {
     "name": "stdout",
     "output_type": "stream",
     "text": [
      "이 자동차는 디젤차입니다\n"
     ]
    }
   ],
   "source": [
    "Car.check_type(2)"
   ]
  },
  {
   "cell_type": "code",
   "execution_count": 6,
   "metadata": {},
   "outputs": [],
   "source": [
    "robot_name = 'R1'\n",
    "robot_pos = 0\n",
    "\n",
    "def robot_move():\n",
    "    global robot_pos\n",
    "    robot_pos = robot_pos +1\n",
    "    print(\"{0} position: {1}\".format(robot_name, robot_pos))"
   ]
  },
  {
   "cell_type": "code",
   "execution_count": 7,
   "metadata": {},
   "outputs": [
    {
     "name": "stdout",
     "output_type": "stream",
     "text": [
      "R1 position: 1\n"
     ]
    }
   ],
   "source": [
    "robot_move()"
   ]
  },
  {
   "cell_type": "code",
   "execution_count": 8,
   "metadata": {},
   "outputs": [
    {
     "name": "stdout",
     "output_type": "stream",
     "text": [
      "R1 position: 2\n"
     ]
    }
   ],
   "source": [
    "robot_move()"
   ]
  },
  {
   "cell_type": "markdown",
   "metadata": {},
   "source": [
    "# 클래스 상속 "
   ]
  },
  {
   "cell_type": "code",
   "execution_count": 9,
   "metadata": {},
   "outputs": [
    {
     "name": "stdout",
     "output_type": "stream",
     "text": [
      "안녕\n",
      "공부하다\n",
      "안녕\n"
     ]
    }
   ],
   "source": [
    "class Person():\n",
    "    def hello(self):\n",
    "        print('안녕')\n",
    "        \n",
    "class Student(Person): #이렇게 상속을 해주려면 안에 부모 클래스를 넣어주면 되는 것 같다. \n",
    "    def study(self):\n",
    "        print('공부하다')\n",
    "\n",
    "kang = Student()\n",
    "kang.hello()\n",
    "kang.study()\n",
    "shin = Person()\n",
    "shin.hello()\n",
    "#shin.study()    #자식 클래스에서 정의된 함수들은 부모 클래스에서 구현할 수 없다. "
   ]
  },
  {
   "cell_type": "markdown",
   "metadata": {},
   "source": [
    "### 메서드 오버라이팅"
   ]
  },
  {
   "cell_type": "code",
   "execution_count": 17,
   "metadata": {},
   "outputs": [
    {
     "name": "stdout",
     "output_type": "stream",
     "text": [
      "안녕 난 학생이야\n",
      "공부하다\n",
      "안녕\n"
     ]
    }
   ],
   "source": [
    "class Person():\n",
    "    def hello(self):\n",
    "        print('안녕')\n",
    "        \n",
    "class Student(Person): \n",
    "    def study(self):\n",
    "        print('공부하다')\n",
    "    def hello(self):\n",
    "        super().hello() #이건 부모의 메서드를 호출하는 것이다. \n",
    "        print('난 학생이야') \n",
    "        \n",
    "        \n",
    "kang = Student()\n",
    "kang.hello()\n",
    "kang.study()\n",
    "\n",
    "shin = Person()\n",
    "shin.hello()"
   ]
  },
  {
   "cell_type": "code",
   "execution_count": 2,
   "metadata": {},
   "outputs": [
    {
     "name": "stdout",
     "output_type": "stream",
     "text": [
      "Person__init__호출\n",
      "Student__init__호출\n",
      "Joel\n"
     ]
    }
   ],
   "source": [
    "class Person():\n",
    "    def __init__(self, name):\n",
    "        self.name = name\n",
    "        print('Person__init__호출')\n",
    "        \n",
    "    def hello(self):\n",
    "        print('안녕')\n",
    "        \n",
    "class Student(Person): \n",
    "    def __init__(self,name):\n",
    "        Person.__init__(self,name)\n",
    "        #super().__init__()\n",
    "        print('Student__init__호출')\n",
    "    def study(self):\n",
    "        print('공부하다')\n",
    "    def hello(self):\n",
    "        super().hello() #이건 부모의 메서드를 호출하는 것이다. \n",
    "        print('난 학생이야') \n",
    "        \n",
    "Joel = Student('Joel')\n",
    "print(Joel.name)"
   ]
  },
  {
   "cell_type": "markdown",
   "metadata": {},
   "source": [
    "### 다중상속"
   ]
  },
  {
   "cell_type": "code",
   "execution_count": 38,
   "metadata": {},
   "outputs": [
    {
     "name": "stdout",
     "output_type": "stream",
     "text": [
      "HELLO STRANGER\n",
      "hi ccccc\n",
      "[<class '__main__.D'>, <class '__main__.C'>, <class '__main__.A'>, <class '__main__.B'>, <class 'object'>]\n"
     ]
    }
   ],
   "source": [
    "class A:\n",
    "    def hello(self):\n",
    "        print('HELLO STRANGER')\n",
    "\n",
    "class B:\n",
    "    def hello(self):\n",
    "        print('HELLO MY FRIEND')\n",
    "\n",
    "class C(A):\n",
    "    def hellos(self):\n",
    "        print('hello ccccc')\n",
    "    def hi(self):\n",
    "        print('hi ccccc')\n",
    "        \n",
    "class D(C,B):\n",
    "    pass\n",
    "\n",
    "child = D()\n",
    "child.hello() #먼저 상속받은 C의 hello를 따르게 된다. \n",
    "#근데 위 처럼 C의 hello 메서드를 바꿔버리면 그 부모인 A에 hello라는 메서드를 가져온다. \n",
    "child.hi()\n",
    "print(D.mro())"
   ]
  },
  {
   "cell_type": "markdown",
   "metadata": {},
   "source": [
    "### 추상 클래스 (feat. abc)"
   ]
  },
  {
   "cell_type": "code",
   "execution_count": 45,
   "metadata": {
    "scrolled": true
   },
   "outputs": [
    {
     "ename": "TypeError",
     "evalue": "Can't instantiate abstract class StudentBase with abstract methods study",
     "output_type": "error",
     "traceback": [
      "\u001b[1;31m---------------------------------------------------------------------------\u001b[0m",
      "\u001b[1;31mTypeError\u001b[0m                                 Traceback (most recent call last)",
      "\u001b[1;32m<ipython-input-45-99a05346adf1>\u001b[0m in \u001b[0;36m<module>\u001b[1;34m\u001b[0m\n\u001b[0;32m      8\u001b[0m         \u001b[1;32mpass\u001b[0m\u001b[1;33m\u001b[0m\u001b[1;33m\u001b[0m\u001b[0m\n\u001b[0;32m      9\u001b[0m \u001b[1;33m\u001b[0m\u001b[0m\n\u001b[1;32m---> 10\u001b[1;33m \u001b[0mkim\u001b[0m \u001b[1;33m=\u001b[0m \u001b[0mStudentBase\u001b[0m\u001b[1;33m(\u001b[0m\u001b[1;33m)\u001b[0m \u001b[1;31m#이렇게 만들어 주면 안 만들어준다. 추상 클래스라서 안된다.\u001b[0m\u001b[1;33m\u001b[0m\u001b[1;33m\u001b[0m\u001b[0m\n\u001b[0m",
      "\u001b[1;31mTypeError\u001b[0m: Can't instantiate abstract class StudentBase with abstract methods study"
     ]
    }
   ],
   "source": [
    "from abc import * #이게 모듈. * 하면 np.이렇게 안하면 된다. \n",
    "\n",
    "class StudentBase(metaclass = ABCMeta):#이건 약속. 추상클래스로 인지하겠다.\n",
    "    def hello(self):\n",
    "        print('안녕')\n",
    "    @abstractmethod\n",
    "    def study(self):\n",
    "        pass\n",
    "    \n",
    "kim = StudentBase() #이렇게 만들어 주면 안 만들어준다. 추상 클래스라서 안된다. \n",
    "\n",
    "class Student(StudentBase):\n",
    "    def study(self):\n",
    "        print('공부하다')\n",
    "        \n",
    "        \n",
    "kim = Student()\n",
    "kim.study()\n",
    "kim.hello() #추상 클래스 내에 추상 메서드 선언을 안 해주면 뭐 저렇게 해주면 될 것 같다. "
   ]
  },
  {
   "cell_type": "markdown",
   "metadata": {},
   "source": [
    "### 예외처리"
   ]
  },
  {
   "cell_type": "markdown",
   "metadata": {},
   "source": [
    "뭐 내 실수로 했을때 문법자체가 틀려서 오류가 생기는 경우가 있지. 이 경우는 수정해야함\n",
    "런타임에러가 생긴 에러가 있다. "
   ]
  },
  {
   "cell_type": "markdown",
   "metadata": {},
   "source": [
    "종료가 되지 않고 원하는 대로 처리할 수 있게 한다. 이건 error 발생 시 종료되지 않도록 해주는 것."
   ]
  },
  {
   "cell_type": "code",
   "execution_count": 54,
   "metadata": {},
   "outputs": [
    {
     "name": "stdout",
     "output_type": "stream",
     "text": [
      "2\n",
      "5.0\n",
      "hello stranger\n"
     ]
    }
   ],
   "source": [
    "i = int(input())\n",
    "try:\n",
    "    print(10 / i)\n",
    "except: #예외가 발생했을때\n",
    "    print('예외발생')\n",
    "\n",
    "print('hello stranger')"
   ]
  },
  {
   "cell_type": "code",
   "execution_count": 55,
   "metadata": {},
   "outputs": [
    {
     "name": "stdout",
     "output_type": "stream",
     "text": [
      "0\n",
      "예외발생\n"
     ]
    }
   ],
   "source": [
    "i = int(input())\n",
    "try:\n",
    "    print(10 / i)\n",
    "    print('hello stranger')\n",
    "except:\n",
    "    print('예외발생') #위와 같이 try블럭을 쓸데없이 크게 넣어버리면 안 들어가버린다. 필요한 곳에만 try를 묶어주자. "
   ]
  },
  {
   "cell_type": "code",
   "execution_count": 58,
   "metadata": {},
   "outputs": [
    {
     "name": "stdout",
     "output_type": "stream",
     "text": [
      "1\n",
      "예외발생\n"
     ]
    }
   ],
   "source": [
    "arr = [1,2,3]\n",
    "try:\n",
    "    print(arr[0])\n",
    "    arr[3]\n",
    "except:\n",
    "    print('예외발생')"
   ]
  },
  {
   "cell_type": "markdown",
   "metadata": {},
   "source": [
    "#### 특정 예외만 처리"
   ]
  },
  {
   "cell_type": "code",
   "execution_count": 71,
   "metadata": {
    "scrolled": true
   },
   "outputs": [
    {
     "name": "stdout",
     "output_type": "stream",
     "text": [
      "인덱스와 나눌숫자 입력2 0\n",
      "0으로 나눌 수 없습니다.  division by zero\n"
     ]
    }
   ],
   "source": [
    "try:\n",
    "    arr = [10,20,30]\n",
    "    index,x = map(int,input('인덱스와 나눌숫자 입력').split())\n",
    "    print(arr[index] / x)\n",
    "    i = int('a')\n",
    "except IndexError as e:\n",
    "    print('인덱스 에러가 발생하였습니다. index 범위 : 0~2', e)\n",
    "except ZeroDivisionError as e:\n",
    "    print('0으로 나눌 수 없습니다. ', e)\n",
    "except Exception as e:\n",
    "    print('예외가 발생하였습니다.', e)"
   ]
  },
  {
   "cell_type": "code",
   "execution_count": 74,
   "metadata": {},
   "outputs": [
    {
     "name": "stdout",
     "output_type": "stream",
     "text": [
      "0\n",
      "예외 발생\n",
      "FINISH\n"
     ]
    }
   ],
   "source": [
    "#else 이용\n",
    "i = int(input())\n",
    "try:\n",
    "    result = 10 / i\n",
    "except:\n",
    "    print('예외 발생')\n",
    "else: #예외가 발생하지 않았을 때만 실행된다. \n",
    "    print('결과:', result )\n",
    "print('FINISH')"
   ]
  },
  {
   "cell_type": "code",
   "execution_count": 82,
   "metadata": {},
   "outputs": [
    {
     "name": "stdout",
     "output_type": "stream",
     "text": [
      "0\n",
      "예외 발생\n",
      "반드시 실행할 블럭\n",
      "FINISH\n"
     ]
    }
   ],
   "source": [
    "#finally\n",
    "i = int(input())\n",
    "try:\n",
    "    result = 10 / i\n",
    "except:\n",
    "    print('예외 발생')\n",
    "else: \n",
    "    print('결과:', result )\n",
    "finally: #이 블럭은 어떤 상황이든 실행이 될 것이다. \n",
    "    print('반드시 실행할 블럭')\n",
    "print('FINISH')"
   ]
  },
  {
   "cell_type": "code",
   "execution_count": 85,
   "metadata": {},
   "outputs": [
    {
     "name": "stdout",
     "output_type": "stream",
     "text": [
      "3의 배수를 입력하세요 : 1\n",
      "※예외발생※ 3의 배수를 입력해주세요\n"
     ]
    }
   ],
   "source": [
    "#예외 발생 시키기 (내가 예외 발생시키기)\n",
    "try:\n",
    "    value = int(input('3의 배수를 입력하세요 : '))\n",
    "    if value %3 != 0:\n",
    "        raise Exception('3의 배수를 입력해주세요')\n",
    "    print(value)\n",
    "except Exception as e:\n",
    "    print('※예외발생※', e)"
   ]
  },
  {
   "cell_type": "code",
   "execution_count": 88,
   "metadata": {},
   "outputs": [
    {
     "name": "stdout",
     "output_type": "stream",
     "text": [
      "3의 배수를 입력하세요 : 4\n",
      "※예외발생※ 3의 배수를 입력해주세요\n",
      "예외 발생 3의 배수를 입력해주세요\n"
     ]
    }
   ],
   "source": [
    "#현재 발생된 예외를 다시 한번 발생시켜주는 예제\n",
    "def my_func():\n",
    "    try:\n",
    "        value = int(input('3의 배수를 입력하세요 : '))\n",
    "        if value %3 != 0:\n",
    "            raise Exception('3의 배수를 입력해주세요')\n",
    "        print(value)\n",
    "    except Exception as e:\n",
    "        print('※예외발생※', e)\n",
    "        raise\n",
    "try:\n",
    "    my_func()\n",
    "except Exception as e:\n",
    "    print('예외 발생', e)\n",
    "    "
   ]
  },
  {
   "cell_type": "code",
   "execution_count": 93,
   "metadata": {},
   "outputs": [],
   "source": [
    "#사용자의 예외 정의\n",
    "class JeehoException(Exception):#핵심은 상속\n",
    "    def __init__(self):\n",
    "        super().__init__('3의 배수가 아닙니다.') #부모의 init에 메세지를 보내주는 것이다.     "
   ]
  },
  {
   "cell_type": "code",
   "execution_count": 94,
   "metadata": {},
   "outputs": [
    {
     "name": "stdout",
     "output_type": "stream",
     "text": [
      "3의 배수를 입력하세요 : 2\n",
      "※예외발생※ __init__() takes 1 positional argument but 2 were given\n",
      "예외 발생 __init__() takes 1 positional argument but 2 were given\n"
     ]
    }
   ],
   "source": [
    "def my_func():\n",
    "    try:\n",
    "        value = int(input('3의 배수를 입력하세요 : '))\n",
    "        if value %3 != 0:\n",
    "            raise JeehoException('값을 잘 입력해라')\n",
    "        print(value)\n",
    "    except Exception as e:\n",
    "        print('※예외발생※', e)\n",
    "        raise\n",
    "try:\n",
    "    my_func()\n",
    "except Exception as e:\n",
    "    print('예외 발생', e)"
   ]
  },
  {
   "cell_type": "markdown",
   "metadata": {},
   "source": [
    "# 문자열과 텍스트파일 데이터 다루기"
   ]
  },
  {
   "cell_type": "code",
   "execution_count": 109,
   "metadata": {},
   "outputs": [
    {
     "name": "stdout",
     "output_type": "stream",
     "text": [
      "{1: 2, '2020-07-21 16:39:59': 1234, '2020-07-21 16:40:02': 1234}\n"
     ]
    }
   ],
   "source": [
    "import datetime\n",
    "now = datetime.datetime.now()\n",
    "nowDatetime = now.strftime('%Y-%m-%d %H:%M:%S') \n",
    "nowDatetime\n",
    "fuck[nowDatetime] = 1234\n",
    "print(fuck)"
   ]
  }
 ],
 "metadata": {
  "kernelspec": {
   "display_name": "Python 3",
   "language": "python",
   "name": "python3"
  },
  "language_info": {
   "codemirror_mode": {
    "name": "ipython",
    "version": 3
   },
   "file_extension": ".py",
   "mimetype": "text/x-python",
   "name": "python",
   "nbconvert_exporter": "python",
   "pygments_lexer": "ipython3",
   "version": "3.8.5"
  }
 },
 "nbformat": 4,
 "nbformat_minor": 4
}
