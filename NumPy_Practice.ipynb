{
 "cells": [
  {
   "cell_type": "code",
   "execution_count": 2,
   "metadata": {},
   "outputs": [
    {
     "data": {
      "text/plain": [
       "array([0., 0., 0., 0., 0., 0., 0., 0., 0., 0., 0., 0., 0., 0., 0., 0., 0.,\n",
       "       0., 0., 0.])"
      ]
     },
     "execution_count": 2,
     "metadata": {},
     "output_type": "execute_result"
    }
   ],
   "source": [
    "#1. 0으로 채워진 크기가 20인 배열을 생성하세요.\n",
    "import numpy as np\n",
    "a1 = np.zeros(20)\n",
    "a1"
   ]
  },
  {
   "cell_type": "code",
   "execution_count": 5,
   "metadata": {},
   "outputs": [
    {
     "data": {
      "text/plain": [
       "array([[ 0,  1,  2,  3],\n",
       "       [ 4,  5,  6,  7],\n",
       "       [ 8,  9, 10, 11],\n",
       "       [12, 13, 14, 15]])"
      ]
     },
     "execution_count": 5,
     "metadata": {},
     "output_type": "execute_result"
    }
   ],
   "source": [
    "#2. 0부터 15까지의 값을 갖는 4 x 4 행렬을 생성하세요.\n",
    "a2 = np.arange(16).reshape(4,4)\n",
    "a2"
   ]
  },
  {
   "cell_type": "code",
   "execution_count": 6,
   "metadata": {},
   "outputs": [
    {
     "data": {
      "text/plain": [
       "array([0., 0., 1., 0., 0., 0., 0., 0., 0., 0.])"
      ]
     },
     "execution_count": 6,
     "metadata": {},
     "output_type": "execute_result"
    }
   ],
   "source": [
    "#3. 길이가 10인데 세번째 요소만 1이고, 나머지 요소는 0인 배열을 생성하세요.\n",
    "a3 = np.zeros(10)\n",
    "a3[2] = 1\n",
    "a3"
   ]
  },
  {
   "cell_type": "code",
   "execution_count": 8,
   "metadata": {},
   "outputs": [
    {
     "data": {
      "text/plain": [
       "array([ 1,  2,  3,  4,  5,  6,  7,  8,  9, 10])"
      ]
     },
     "execution_count": 8,
     "metadata": {},
     "output_type": "execute_result"
    }
   ],
   "source": [
    "#4. 1에서 10까지의 값을 갖는 배열을 생성하세요.\n",
    "a4 = np.arange(1,11)\n",
    "a4"
   ]
  },
  {
   "cell_type": "code",
   "execution_count": 18,
   "metadata": {},
   "outputs": [
    {
     "data": {
      "text/plain": [
       "array([10,  9,  8,  7,  6,  5,  4,  3,  2,  1])"
      ]
     },
     "execution_count": 18,
     "metadata": {},
     "output_type": "execute_result"
    }
   ],
   "source": [
    "#5. 위의 배열의 순서를 거꾸로 바꿔주세요.\n",
    "a5 = a4[::-1]\n",
    "a5"
   ]
  },
  {
   "cell_type": "code",
   "execution_count": 20,
   "metadata": {},
   "outputs": [
    {
     "data": {
      "text/plain": [
       "array([[1., 0., 0., 0.],\n",
       "       [0., 1., 0., 0.],\n",
       "       [0., 0., 1., 0.],\n",
       "       [0., 0., 0., 1.]])"
      ]
     },
     "execution_count": 20,
     "metadata": {},
     "output_type": "execute_result"
    }
   ],
   "source": [
    "#6 4x4 단위행렬을 만드세요. (단위 행렬(영어: identity matrix)은 주대각선의 원소가 모두 1이며 나머지 원소는 모두 0인 정사각 행렬이다.)\n",
    "a6 = np.eye(4)\n",
    "a6"
   ]
  },
  {
   "cell_type": "code",
   "execution_count": 24,
   "metadata": {},
   "outputs": [
    {
     "data": {
      "text/plain": [
       "array([[[47, 83, 38],\n",
       "        [53, 76, 24],\n",
       "        [15, 49, 23]],\n",
       "\n",
       "       [[26, 30, 43],\n",
       "        [30, 26, 58],\n",
       "        [92, 69, 80]],\n",
       "\n",
       "       [[73, 47, 50],\n",
       "        [76, 37, 34],\n",
       "        [38, 67, 11]]])"
      ]
     },
     "execution_count": 24,
     "metadata": {},
     "output_type": "execute_result"
    }
   ],
   "source": [
    "#7 랜덤한 값을 가지는 3X3X3 배열을 생성하세요.\n",
    "np.random.seed(1234)\n",
    "a7 = np.random.randint(100, size = (3,3,3))\n",
    "a7"
   ]
  },
  {
   "cell_type": "code",
   "execution_count": 59,
   "metadata": {},
   "outputs": [
    {
     "name": "stdout",
     "output_type": "stream",
     "text": [
      "최대값: 92\n",
      "최대값: 11\n"
     ]
    }
   ],
   "source": [
    "#8. 위에서 생성한 배열 원소의 최대값, 최솟값을 구하세요.\n",
    "print('최대값: {0}'.format(np.max(a7)))\n",
    "print('최대값: {0}'.format(np.min(a7)))"
   ]
  },
  {
   "cell_type": "code",
   "execution_count": 31,
   "metadata": {},
   "outputs": [
    {
     "name": "stdout",
     "output_type": "stream",
     "text": [
      "[47 83 38 53 76 24 15 49 23 26 30 43 30 26 58 92 69 80 73 47]\n"
     ]
    },
    {
     "data": {
      "text/plain": [
       "49.1"
      ]
     },
     "execution_count": 31,
     "metadata": {},
     "output_type": "execute_result"
    }
   ],
   "source": [
    "#9. 20개의 랜덤한 값을 가진 배열을 생성하고, 그 배열의 평균값을 구하시오. 참고: numpy에서 평균을 구하는 함수 - mean()\n",
    "np.random.seed(1234)\n",
    "a9 = np.random.randint(100,size = (20))\n",
    "print(a9)\n",
    "a9.mean()"
   ]
  },
  {
   "cell_type": "code",
   "execution_count": 55,
   "metadata": {},
   "outputs": [
    {
     "name": "stdout",
     "output_type": "stream",
     "text": [
      "[[1. 1. 1. 1.]\n",
      " [1. 0. 0. 1.]\n",
      " [1. 0. 0. 1.]\n",
      " [1. 1. 1. 1.]]\n"
     ]
    }
   ],
   "source": [
    "#10. 4x4 의 2차원 배열을 생성하세요. 단 테두리는 1을 내부는 0으로 채워주세요.\n",
    "a10 = np.zeros((4,4))\n",
    "for i in [0,3]:\n",
    "    for j in range(4):\n",
    "        a10[i,j] = 1\n",
    "        a10[j,i] = 1\n",
    "print(a10)"
   ]
  }
 ],
 "metadata": {
  "kernelspec": {
   "display_name": "Python 3",
   "language": "python",
   "name": "python3"
  },
  "language_info": {
   "codemirror_mode": {
    "name": "ipython",
    "version": 3
   },
   "file_extension": ".py",
   "mimetype": "text/x-python",
   "name": "python",
   "nbconvert_exporter": "python",
   "pygments_lexer": "ipython3",
   "version": "3.7.6"
  }
 },
 "nbformat": 4,
 "nbformat_minor": 4
}
