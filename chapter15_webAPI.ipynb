{
 "cells": [
  {
   "cell_type": "markdown",
   "metadata": {},
   "source": [
    "출처 : 데이터분석을 위한 파이썬 철저입문, 위키북스, 최은석"
   ]
  },
  {
   "cell_type": "markdown",
   "metadata": {},
   "source": [
    "# 1.웹 API의 이해"
   ]
  },
  {
   "cell_type": "markdown",
   "metadata": {},
   "source": [
    "## 1) JSON 형식의 데이터 처리"
   ]
  },
  {
   "cell_type": "code",
   "execution_count": 3,
   "metadata": {},
   "outputs": [],
   "source": [
    "import json"
   ]
  },
  {
   "cell_type": "markdown",
   "metadata": {},
   "source": [
    "- json형태 데이터 만들기"
   ]
  },
  {
   "cell_type": "markdown",
   "metadata": {},
   "source": [
    "객체의 구성은 이름 : 값 으로 구성됨\n",
    "\n",
    "이름은 문자열로 구성되고, 값은 숫자, 문자열, 배열 혹은 또 다른 객체로 구성될 수 있음"
   ]
  },
  {
   "cell_type": "code",
   "execution_count": 6,
   "metadata": {},
   "outputs": [
    {
     "data": {
      "text/plain": [
       "dict"
      ]
     },
     "execution_count": 6,
     "metadata": {},
     "output_type": "execute_result"
    }
   ],
   "source": [
    "python_dict = {\n",
    "    \"이름\" : \"신지호\"\n",
    "    ,\"나이\" : 26\n",
    "    ,\"거주지\" : \"서울\"\n",
    "    \n",
    "    #객체 안에 객체를 생성한다\n",
    "    ,\"신체정보\" : {\n",
    "        \"키\": 173\n",
    "        ,\"몸무게\" : 70\n",
    "    }\n",
    "    \n",
    "    #객체의 값에 리스트가 들어갈 수 있음\n",
    "    ,\"취미\" : [\n",
    "        \"구보\"\n",
    "        ,\"축구\"\n",
    "        ,\"영화감상\"\n",
    "    ]\n",
    "\n",
    "}\n",
    "type(python_dict)"
   ]
  },
  {
   "cell_type": "markdown",
   "metadata": {},
   "source": [
    "- json 형태로 변환"
   ]
  },
  {
   "cell_type": "code",
   "execution_count": 7,
   "metadata": {},
   "outputs": [
    {
     "data": {
      "text/plain": [
       "str"
      ]
     },
     "execution_count": 7,
     "metadata": {},
     "output_type": "execute_result"
    }
   ],
   "source": [
    "json_data = json.dumps(python_dict)\n",
    "type(json_data)"
   ]
  },
  {
   "cell_type": "markdown",
   "metadata": {},
   "source": [
    "- 출력해서 확인해보자"
   ]
  },
  {
   "cell_type": "code",
   "execution_count": 8,
   "metadata": {},
   "outputs": [
    {
     "name": "stdout",
     "output_type": "stream",
     "text": [
      "{\"\\uc774\\ub984\": \"\\uc2e0\\uc9c0\\ud638\", \"\\ub098\\uc774\": 26, \"\\uac70\\uc8fc\\uc9c0\": \"\\uc11c\\uc6b8\", \"\\uc2e0\\uccb4\\uc815\\ubcf4\": {\"\\ud0a4\": 173, \"\\ubab8\\ubb34\\uac8c\": 70}, \"\\ucde8\\ubbf8\": [\"\\uad6c\\ubcf4\", \"\\ucd95\\uad6c\", \"\\uc601\\ud654\\uac10\\uc0c1\"]}\n"
     ]
    }
   ],
   "source": [
    "print(json_data)"
   ]
  },
  {
   "cell_type": "markdown",
   "metadata": {},
   "source": [
    "> 상당히 알아보기 힘들게 돼 있다.."
   ]
  },
  {
   "cell_type": "markdown",
   "metadata": {},
   "source": [
    "- 조건을 추가해서 데이터 생성"
   ]
  },
  {
   "cell_type": "code",
   "execution_count": 9,
   "metadata": {},
   "outputs": [
    {
     "name": "stdout",
     "output_type": "stream",
     "text": [
      "{\n",
      "   \"거주지\": \"서울\",\n",
      "   \"나이\": 26,\n",
      "   \"신체정보\": {\n",
      "      \"몸무게\": 70,\n",
      "      \"키\": 173\n",
      "   },\n",
      "   \"이름\": \"신지호\",\n",
      "   \"취미\": [\n",
      "      \"구보\",\n",
      "      \"축구\",\n",
      "      \"영화감상\"\n",
      "   ]\n",
      "}\n"
     ]
    }
   ],
   "source": [
    "json_data  = json.dumps(python_dict, indent = 3, sort_keys = True, ensure_ascii = False)\n",
    "print(json_data)"
   ]
  },
  {
   "cell_type": "markdown",
   "metadata": {},
   "source": [
    "- 다시 딕셔너리로 변환"
   ]
  },
  {
   "cell_type": "markdown",
   "metadata": {},
   "source": [
    "json.load() 라는 메서드를 사용해서 다시 딕셔너리로 변환시켜준다 "
   ]
  },
  {
   "cell_type": "code",
   "execution_count": 10,
   "metadata": {},
   "outputs": [
    {
     "data": {
      "text/plain": [
       "dict"
      ]
     },
     "execution_count": 10,
     "metadata": {},
     "output_type": "execute_result"
    }
   ],
   "source": [
    "json_dict = json.loads(json_data)\n",
    "type(json_dict)"
   ]
  },
  {
   "cell_type": "markdown",
   "metadata": {},
   "source": [
    "## 2) XML 형식의 데이터 처리"
   ]
  },
  {
   "cell_type": "markdown",
   "metadata": {},
   "source": [
    "```xmltodict.parse(xml_input [, xml_attribs = True 혹은 False])```으로 처리한다\n",
    "\n",
    "이때 xml_attribs는 속성을 처리할지 말지를 설정함"
   ]
  },
  {
   "cell_type": "markdown",
   "metadata": {},
   "source": [
    "- xml data 만들기\n",
    "\n",
    "이때 태그에 공백이 들어가면 안 될 것 같다."
   ]
  },
  {
   "cell_type": "code",
   "execution_count": 13,
   "metadata": {},
   "outputs": [
    {
     "name": "stdout",
     "output_type": "stream",
     "text": [
      "<?xml_version = \"1.0\" encoding = \"UTF-8\"?>\n",
      "<user_info>\n",
      "    <name>shin_jiho</name>\n",
      "    <age>26</age>\n",
      "    <location>Seoul</location>\n",
      "    <body>\n",
      "        <height unit = \"cm\">173</height>\n",
      "        <weight unit = \"kg\">70</weight>\n",
      "    </body>\n",
      "    <hobby>running</hobby>\n",
      "    <hobby>soccer</hobby>\n",
      "    <hobby>movie</hobby>\n",
      "</user_info>\n",
      "\n"
     ]
    }
   ],
   "source": [
    "xml_data = \"\"\"<?xml_version = \"1.0\" encoding = \"UTF-8\"?>\n",
    "<user_info>\n",
    "    <name>shin_jiho</name>\n",
    "    <age>26</age>\n",
    "    <location>Seoul</location>\n",
    "    <body>\n",
    "        <height unit = \"cm\">173</height>\n",
    "        <weight unit = \"kg\">70</weight>\n",
    "    </body>\n",
    "    <hobby>running</hobby>\n",
    "    <hobby>soccer</hobby>\n",
    "    <hobby>movie</hobby>\n",
    "</user_info>\n",
    "\"\"\"\n",
    "\n",
    "print(xml_data)"
   ]
  },
  {
   "cell_type": "markdown",
   "metadata": {},
   "source": [
    "- xml 데이터를 딕셔너리 형태로 변환\n",
    "\n",
    "xmltodict라는 모듈을 사용함"
   ]
  },
  {
   "cell_type": "code",
   "execution_count": 14,
   "metadata": {},
   "outputs": [
    {
     "data": {
      "text/plain": [
       "OrderedDict([('user_info',\n",
       "              OrderedDict([('name', 'shin_jiho'),\n",
       "                           ('age', '26'),\n",
       "                           ('location', 'Seoul'),\n",
       "                           ('body',\n",
       "                            OrderedDict([('height',\n",
       "                                          OrderedDict([('@unit', 'cm'),\n",
       "                                                       ('#text', '173')])),\n",
       "                                         ('weight',\n",
       "                                          OrderedDict([('@unit', 'kg'),\n",
       "                                                       ('#text', '70')]))])),\n",
       "                           ('hobby', ['running', 'soccer', 'movie'])]))])"
      ]
     },
     "execution_count": 14,
     "metadata": {},
     "output_type": "execute_result"
    }
   ],
   "source": [
    "import xmltodict\n",
    "\n",
    "dict_data = xmltodict.parse(xml_data, xml_attribs = True)\n",
    "dict_data"
   ]
  },
  {
   "cell_type": "code",
   "execution_count": 17,
   "metadata": {},
   "outputs": [
    {
     "data": {
      "text/plain": [
       "'shin_jiho'"
      ]
     },
     "execution_count": 17,
     "metadata": {},
     "output_type": "execute_result"
    }
   ],
   "source": [
    "dict_data['user_info']['name']"
   ]
  },
  {
   "cell_type": "markdown",
   "metadata": {},
   "source": [
    "- 속성과 문자열을 추출하고 싶다면"
   ]
  },
  {
   "cell_type": "code",
   "execution_count": 18,
   "metadata": {},
   "outputs": [
    {
     "data": {
      "text/plain": [
       "'cm'"
      ]
     },
     "execution_count": 18,
     "metadata": {},
     "output_type": "execute_result"
    }
   ],
   "source": [
    "dict_data['user_info']['body']['height']['@unit']"
   ]
  },
  {
   "cell_type": "code",
   "execution_count": 20,
   "metadata": {},
   "outputs": [
    {
     "data": {
      "text/plain": [
       "'173'"
      ]
     },
     "execution_count": 20,
     "metadata": {},
     "output_type": "execute_result"
    }
   ],
   "source": [
    "dict_data['user_info']['body']['height']['#text']"
   ]
  },
  {
   "cell_type": "markdown",
   "metadata": {},
   "source": [
    "- xml 형식의 데이터에서 원하는 형식의 데이터를 추출해서 활용하는 방법\n",
    "\n",
    "생각보다 귀찮게 돼 있는 것 같다"
   ]
  },
  {
   "cell_type": "code",
   "execution_count": 22,
   "metadata": {},
   "outputs": [
    {
     "name": "stdout",
     "output_type": "stream",
     "text": [
      "[사용자 shin_jiho의 신체정보]\n",
      "*키 : 173cm\n",
      "*몸무게 : 70kg\n"
     ]
    }
   ],
   "source": [
    "#dict_data를 만들어준다 \n",
    "dict_data = xmltodict.parse(xml_data, xml_attribs = True)\n",
    "\n",
    "#이름\n",
    "user_name = dict_data['user_info']['name']\n",
    "\n",
    "#신체정보\n",
    "body_data = dict_data['user_info']['body']\n",
    "\n",
    "#키\n",
    "height = body_data['height']['#text']\n",
    "height_unit = body_data['height']['@unit']\n",
    "\n",
    "#몸무게\n",
    "weight = body_data['weight']['#text']\n",
    "weight_unit = body_data['weight']['@unit']\n",
    "\n",
    "print(\"[사용자 {0}의 신체정보]\".format(user_name))\n",
    "print(\"*키 : {0}{1}\".format(height, height_unit))\n",
    "print(\"*몸무게 : {0}{1}\".format(weight, weight_unit))"
   ]
  },
  {
   "cell_type": "markdown",
   "metadata": {},
   "source": [
    "## 3) 웹사이트 주소에 부가정보 추가하기 "
   ]
  },
  {
   "cell_type": "markdown",
   "metadata": {},
   "source": [
    "### 3-1) 웹사이트 주소에 경로 추가하기 "
   ]
  },
  {
   "cell_type": "markdown",
   "metadata": {},
   "source": [
    "- 기본 웹사이트 주소는 유지하면서 웹 사이트 내 경로를 변경해야할 경우"
   ]
  },
  {
   "cell_type": "code",
   "execution_count": 23,
   "metadata": {},
   "outputs": [
    {
     "name": "stdout",
     "output_type": "stream",
     "text": [
      "https://api.github.com/events\n"
     ]
    }
   ],
   "source": [
    "base_url = \"https://api.github.com/\"\n",
    "\n",
    "sub_dir = \"events\"\n",
    "url = base_url+sub_dir\n",
    "print(url)"
   ]
  },
  {
   "cell_type": "code",
   "execution_count": 24,
   "metadata": {},
   "outputs": [
    {
     "name": "stdout",
     "output_type": "stream",
     "text": [
      "https://api.github.com/events\n",
      "https://api.github.com/user\n",
      "https://api.github.com/emails\n"
     ]
    }
   ],
   "source": [
    "import requests\n",
    "\n",
    "base_url = \"https://api.github.com/\"\n",
    "sub_dirs = [\"events\", \"user\", \"emails\"]\n",
    "\n",
    "for sub_dir in sub_dirs :\n",
    "    url_dir = base_url+sub_dir\n",
    "    r = requests.get(url_dir)\n",
    "    print(r.url)"
   ]
  },
  {
   "cell_type": "code",
   "execution_count": 26,
   "metadata": {},
   "outputs": [
    {
     "data": {
      "text/plain": [
       "'{\"message\":\"Not Found\",\"documentation_url\":\"https://docs.github.com/rest\"}'"
      ]
     },
     "execution_count": 26,
     "metadata": {},
     "output_type": "execute_result"
    }
   ],
   "source": [
    "r.text"
   ]
  },
  {
   "cell_type": "markdown",
   "metadata": {},
   "source": [
    "### 3-2) 웹사이트 주소에 매개변수 추가하기"
   ]
  },
  {
   "cell_type": "markdown",
   "metadata": {},
   "source": [
    "매개변수(지정된 키와 값으로 구성)을 추가  \n",
    "\n",
    "물음표를 사용한다고 함"
   ]
  },
  {
   "cell_type": "code",
   "execution_count": 27,
   "metadata": {},
   "outputs": [
    {
     "name": "stdout",
     "output_type": "stream",
     "text": [
      "http://api.openweathermap.org/data/2.5/weather?lat=37.57&lon=125.47&appid=b235c57pc357fb68acr1e81&units=metric\n"
     ]
    }
   ],
   "source": [
    "import requests\n",
    "\n",
    "lat = '37.57' #위도\n",
    "lon = '125.47' #경도\n",
    "api_key = 'b235c57pc357fb68acr1e81' #임의의 api\n",
    "unit = 'metric'\n",
    "\n",
    "site_url = 'http://api.openweathermap.org/data/2.5/weather'\n",
    "parameter = \"?lat=%s&lon=%s&appid=%s&units=%s\"%(lat, lon, api_key, unit)\n",
    "url_para = site_url+parameter\n",
    "r=requests.get(url_para)\n",
    "\n",
    "print(r.url)"
   ]
  },
  {
   "cell_type": "markdown",
   "metadata": {},
   "source": [
    "> 위와 같이 위도와 경도 임의의 api등을 지정해 요청할 수 있다"
   ]
  },
  {
   "cell_type": "markdown",
   "metadata": {},
   "source": [
    "- request의 params인자를 활용"
   ]
  },
  {
   "cell_type": "code",
   "execution_count": 29,
   "metadata": {},
   "outputs": [
    {
     "name": "stdout",
     "output_type": "stream",
     "text": [
      "http://api.openweathermap.org/data/2.5/weather?lat=37.57&lon=125.47&appid=b235c57pc357fb68acr1e81&units=metric\n"
     ]
    }
   ],
   "source": [
    "import requests\n",
    "\n",
    "lat = '37.57' #위도\n",
    "lon = '125.47' #경도\n",
    "api_key = 'b235c57pc357fb68acr1e81' #임의의 api\n",
    "unit = 'metric' #단위 \n",
    "\n",
    "req_url = 'http://api.openweathermap.org/data/2.5/weather'\n",
    "req_parameter = {\"lat\" : lat, \"lon\" : lon, \"appid\" : api_key, \"units\" : unit}\n",
    "r = requests.get(req_url, params = req_parameter)\n",
    "\n",
    "print(r.url)"
   ]
  },
  {
   "cell_type": "markdown",
   "metadata": {},
   "source": [
    "### 3-3)웹 사이트 주소의 인코딩과 디코딩"
   ]
  },
  {
   "cell_type": "markdown",
   "metadata": {},
   "source": [
    "url 인코딩은 퍼센트 인코딩이라고 하여 \n",
    "\n",
    "'+'는 '%2B' '/'는 '%2F' '='는 '%3D'뭐 이렇게 인코딩이 된다고 한다.\n",
    "\n",
    "```requests.get(url, params=)```를 사용하면 자동으로 되어 상관은 없다고 함"
   ]
  },
  {
   "cell_type": "code",
   "execution_count": 31,
   "metadata": {},
   "outputs": [
    {
     "name": "stdout",
     "output_type": "stream",
     "text": [
      "Encoded url: et5piq3pfpqLEWPpCbvtSQ%2Bertertg%2Bx3evdvbaRBvhWEerg3efac2r3f3RfhDTERTw%2B9rkvoewRV%2Fovmrk3dq%3D%3D\n",
      "Decoded url: et5piq3pfpqLEWPpCbvtSQ+ertertg+x3evdvbaRBvhWEerg3efac2r3f3RfhDTERTw+9rkvoewRV/ovmrk3dq==\n"
     ]
    }
   ],
   "source": [
    "API_KEY = \"et5piq3pfpqLEWPpCbvtSQ%2Bertertg%2Bx3evdvbaRBvhWEerg3efac2r3f3RfhDTERTw%2B9rkvoewRV%2Fovmrk3dq%3D%3D\"\n",
    "\n",
    "API_KEY_decode = requests.utils.unquote(API_KEY)\n",
    "\n",
    "print(\"Encoded url:\", API_KEY)\n",
    "print(\"Decoded url:\", API_KEY_decode)"
   ]
  },
  {
   "cell_type": "code",
   "execution_count": null,
   "metadata": {},
   "outputs": [],
   "source": []
  },
  {
   "cell_type": "code",
   "execution_count": null,
   "metadata": {},
   "outputs": [],
   "source": []
  }
 ],
 "metadata": {
  "kernelspec": {
   "display_name": "Python 3",
   "language": "python",
   "name": "python3"
  },
  "language_info": {
   "codemirror_mode": {
    "name": "ipython",
    "version": 3
   },
   "file_extension": ".py",
   "mimetype": "text/x-python",
   "name": "python",
   "nbconvert_exporter": "python",
   "pygments_lexer": "ipython3",
   "version": "3.8.5"
  }
 },
 "nbformat": 4,
 "nbformat_minor": 4
}
