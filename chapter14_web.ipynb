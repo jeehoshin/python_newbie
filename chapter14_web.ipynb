{
 "cells": [
  {
   "cell_type": "markdown",
   "metadata": {},
   "source": [
    "### 01. 웹 브라우저로 웹 사이트 접속"
   ]
  },
  {
   "cell_type": "markdown",
   "metadata": {},
   "source": [
    "#### 1) 하나의 웹 사이트에 접속"
   ]
  },
  {
   "cell_type": "code",
   "execution_count": 1,
   "metadata": {},
   "outputs": [
    {
     "data": {
      "text/plain": [
       "True"
      ]
     },
     "execution_count": 1,
     "metadata": {},
     "output_type": "execute_result"
    }
   ],
   "source": [
    "import webbrowser\n",
    "\n",
    "url = 'www.naver.com'\n",
    "webbrowser.open(url)"
   ]
  },
  {
   "cell_type": "markdown",
   "metadata": {},
   "source": [
    "- 검색어를 다르게 해서 들어가보자"
   ]
  },
  {
   "cell_type": "code",
   "execution_count": 10,
   "metadata": {},
   "outputs": [
    {
     "data": {
      "text/plain": [
       "True"
      ]
     },
     "execution_count": 10,
     "metadata": {},
     "output_type": "execute_result"
    }
   ],
   "source": [
    "import webbrowser\n",
    "\n",
    "#한번 검색어를 다르게 해서 들어가보자\n",
    "naver_url = 'http://search.naver.com/search.naver?query='\n",
    "word = 'python'\n",
    "\n",
    "#열어보자\n",
    "webbrowser.open(naver_url + word)"
   ]
  },
  {
   "cell_type": "markdown",
   "metadata": {},
   "source": [
    "#### 2) 여러 웹 사이트에 접속"
   ]
  },
  {
   "cell_type": "code",
   "execution_count": 11,
   "metadata": {},
   "outputs": [],
   "source": [
    "#for 문을 이용해서 들어가면 된다고 한다 \n",
    "import webbrowser\n",
    "\n",
    "urls = ['www.naver.com', 'www.daum.net', 'www.google.com']\n",
    "\n",
    "for url in urls : \n",
    "    webbrowser.open_new(url)"
   ]
  },
  {
   "cell_type": "markdown",
   "metadata": {},
   "source": [
    "### 02. 크롤링을 위한 기본지식"
   ]
  },
  {
   "cell_type": "markdown",
   "metadata": {},
   "source": [
    "#### 1) HTML의 기본구조"
   ]
  },
  {
   "cell_type": "code",
   "execution_count": 24,
   "metadata": {},
   "outputs": [
    {
     "name": "stdout",
     "output_type": "stream",
     "text": [
      "Overwriting c:\\python\\html_example.html\n"
     ]
    }
   ],
   "source": [
    "%%writefile c:\\python\\html_example.html\n",
    "    <!doctype html> \n",
    "    <html>\n",
    "        <head> \n",
    "            <meta charset = 'utf-8'>\n",
    "            <title>이것은 HTML 예제</title>\n",
    "        </head>\n",
    "        <body>\n",
    "            <h1>출간된 책 정보</h1>\n",
    "            <p id = 'book_title'>이해가 쏙속되는 파이썬</p>\n",
    "            <p id = 'author'>신지호</p>\n",
    "            <p id = 'publisher'>위키북스 출판사</p>\n",
    "            <p id = 'year'>2018</p>\n",
    "        </body>\n",
    "    </html>"
   ]
  },
  {
   "cell_type": "markdown",
   "metadata": {},
   "source": [
    "#### 2) HTML 소스 get"
   ]
  },
  {
   "cell_type": "code",
   "execution_count": 17,
   "metadata": {},
   "outputs": [
    {
     "data": {
      "text/plain": [
       "<Response [200]>"
      ]
     },
     "execution_count": 17,
     "metadata": {},
     "output_type": "execute_result"
    }
   ],
   "source": [
    "#google의 HTML소스를 얻는다\n",
    "import requests\n",
    "\n",
    "r = requests.get('https://www.google.co.kr')\n",
    "r"
   ]
  },
  {
   "cell_type": "code",
   "execution_count": 22,
   "metadata": {},
   "outputs": [
    {
     "data": {
      "text/plain": [
       "'<!doctype html><html itemscope=\"\" itemtype=\"http://schema.org/WebPage\" lang=\"ko\"><head><meta content=\"text/html; charset=UTF-8\" http-equiv=\"Content-Type\"><meta content=\"/logos/doodles/2021/international-womens-day-2021-6753651837108879.3-l.png\" itemprop=\"image\"><meta content=\"2021년 세계 여성의 날\" property=\"twitter:title\"><meta content=\"2021년 세계 여성의 날 기념 #Google기념일로고\" property=\"twitter:description\"><meta content=\"2021년 세계 여성의 날 기념 #Google기념일로고\" property=\"og:description\"><meta content=\"summary_large_image\" property=\"twitter:card\"><meta content=\"@GoogleDoodles\" property=\"twitter:site\"><meta content=\"https://www.google.com/logos/doodles/2021/international-womens-day-2021-6753651837108879.3-2xa.gif\" property=\"twitter:image\"><meta content=\"https://www.google.com/logos/doodles/2021/international-womens-day-2021-6753651837108879.3-2xa.gif\" property=\"og:image\"><meta content=\"818\" property=\"og:image:width\"><meta content=\"460\" property=\"og:image:height\"><meta content=\"https://www.google.com/logos/doodles/2021/international-womens-day-2021-6753651837108879.3-2xa.gif\" property=\"og:url\"><meta content=\"video.other\" property=\"og:type\"><title>Google</title><script nonce=\"4lgMnxokJG1/lW+aQhchUA==\">(function(){window.google={kEI:\\'G89FYNX3LpvZ-Qb504PgDQ\\',kEXPI:\\'0,18167,1284266,7,56969,954,5105,206,4804,926,1390,383,246,5,1354,5250,1505,160,677,1120174,1233,1196501,549,302679,26305,51224,16114,6056,22628,9188,8384,4859,1361,9291,3021,2822,1924,12841,4020,978,13228,2054,920,873,4192,6430,14527,4520,2775,919,2277,8,570,2226,889,706,1277,2212,530,149,1103,840,517,1522,4258,1449,2,2669,2024,1776,520,1704,2567,326,1284,8789,2273,1,953,2845,7,12354,5096,7877,4928,108,3407,908,2,941,2614,2399,10743,3,346,230,1835,4624,149,5990,6299,1686,4,1252,276,2304,1236,1145,4081,577,89,1702,1373,1519,460,1555,4067,5634,1426,2484,3011,1753,2658,491,3752,518,912,564,464,654,32,3854,1810,2297,168,3285,2214,2305,638,1494,605,2,892,4088,7898,142,1165,587,11,731,665,1054,647,444,3676,1324,1212,479,142,370,1963,781,359,20,47,99,2276,696,7,907,3,1324,2217,1,4177,1808,1014,979,642,678,358,656,133,1498,2767,1187,382,245,38,245,709,3637,1941,621,1256,238,950,2,16,32,18,995,1,3242,402,30,2859,423,241,46,77,121,18,575,980,2,79,1258,57,176,1240,143,711,69,2,98,367,711,627,7,370,2,3036,21,1337,4279,556,156,655,685,369,296,385,2,2,104,233,2,206,223,58,49,156,1017,191,45,955,1,871,2,61,871,619,396,1,1,1,423,5682994,3709,161,35,139,5997164,2800708,549,333,444,1,2,80,1,1796,1,9,2,2551,1,748,141,795,563,1,4265,1,1,2,1331,3299,843,1,2608,155,17,13,72,180,3,155,13,16,46,5,39,9,2,43,43,18,1,1,4,8,1,23956809,2776205,12759,1221308,267,1137,25643,214\\',kBL:\\'4Bw4\\'};google.sn=\\'webhp\\';google.kHL=\\'ko\\';})();(function(){\\nvar f=[];google.getEI=function(a){for(var b;a&&(!a.getAttribute||!(b=a.getAttribute(\"eid\")));)a=a.parentNode;return b||google.kEI};google.getLEI=function(a){for(var b=null;a&&(!a.getAttribute||!(b=a.getAttribute(\"leid\")));)a=a.parentNode;return b};google.ml=function(){return null};google.log=function(a,b,c,d,g){if(c=google.logUrl(a,b,c,d,g)){a=new Image;var e=f.length;f[e]=a;a.onerror=a.onload=a.onabort=function(){delete f[e]};a.src=c}};google.logUrl=function(a,b,c,d,g){var e=\"\";c||-1!=b.search(\"&ei=\")||(e=\"&ei=\"+google.getEI(d),-1==b.search(\"&lei=\")&&(d=google.getLEI(d))&&(e+=\"&lei=\"+d));d=\"\";!c&&window._cshid&&-1==b.search(\"&cshid=\")&&\"slh\"!=a&&(d=\"&cshid=\"+window._cshid);c=c||\"/\"+(g||\"gen_204\")+\"?atyp=i&ct=\"+a+\"&cad=\"+b+e+\"&zx=\"+Date.now()+d;/^http:/i.test(c)&&\"https:\"==window.location.protocol&&(google.ml(Error(\"a\"),!1,{src:c,glmm:1}),c=\"\");return c};}).call(this);(function(){google.y={};google.x=function(a,b){if(a)var c=a.id;else{do c=Math.random();while(google.y[c])}google.y[c]=[a,b];return!1};google.lm=[];google.plm=function(a){google.lm.push.apply(google.lm,a)};google.lq=[];google.load=function(a,b,c){google.lq.push([[a],b,c])};google.loadAll=function(a,b){google.lq.push([a,b])};google.bx=!1;google.lx=function(){};}).call(this);google.f={};(function(){\\ndocument.documentElement.addEventListener(\"submit\",function(b){var a;if(a=b.target){var c=a.getAttribute(\"data-submitfalse\");a=\"1\"==c||\"q\"==c&&!a.elements.q.value?!0:!1}else a=!1;a&&(b.preventDefault(),b.stopPropagation())},!0);document.documentElement.addEventListener(\"click\",function(b){var a;a:{for(a=b.target;a&&a!=document.documentElement;a=a.parentElement)if(\"A\"==a.tagName){a=\"1\"==a.getAttribute(\"data-nohref\");break a}a=!1}a&&b.preventDefault()},!0);}).call(this);\\nvar a=window.location,b=a.href.indexOf(\"#\");if(0<=b){var c=a.href.substring(b+1);/(^|&)q=/.test(c)&&-1==c.indexOf(\"#\")&&a.replace(\"/search?\"+c.replace(/(^|&)fp=[^&]*/g,\"\")+\"&cad=h\")};</script><style>#gbar,#guser{font-size:13px;padding-top:1px !important;}#gbar{height:22px}#guser{padding-bottom:7px !important;text-align:right}.gbh,.gbd{border-top:1px solid #c9d7f1;font-size:1px}.gbh{height:0;position:absolute;top:24px;width:100%}@media all{.gb1{height:22px;margin-right:.5em;vertical-align:top}#gbar{float:left}}a.gb1,a.gb4{text-decoration:underline !important}a.gb1,a.gb4{color:#00c !important}.gbi .gb4{color:#dd8e27 !important}.gbf .gb4{color:#900 !important}\\n</style><style>body,td,a,p,.h{font-family:굴림,돋움,arial,sans-serif}.ko{font-size:9pt}body{margin:0;overflow-y:scroll}#gog{padding:3px 8px 0}td{line-height:.8em}.gac_m td{line-height:17px}form{margin-bottom:20px}.h{color:#1558d6}em{font-weight:bold;font-style:normal}.lst{height:25px;width:496px}.gsfi,.lst{font:18px arial,sans-serif}.gsfs{font:17px arial,sans-serif}.ds{display:inline-box;display:inline-block;margin:3px 0 4px;margin-left:4px}input{font-family:inherit}body{background:#fff;color:#000}a{color:#4b11a8;text-decoration:none}a:hover,a:active{text-decoration:underline}.fl a{color:#1558d6}a:visited{color:#4b11a8}.sblc{padding-top:5px}.sblc a{display:block;margin:2px 0;margin-left:13px;font-size:11px}.lsbb{background:#f8f9fa;border:solid 1px;border-color:#dadce0 #70757a #70757a #dadce0;height:30px}.lsbb{display:block}#WqQANb a{display:inline-block;margin:0 12px}.lsb{background:url(/images/nav_logo229.png) 0 -261px repeat-x;border:none;color:#000;cursor:pointer;height:30px;margin:0;outline:0;font:15px arial,sans-serif;vertical-align:top}.lsb:active{background:#dadce0}.lst:focus{outline:none}.tiah{width:458px}</style><script nonce=\"4lgMnxokJG1/lW+aQhchUA==\"></script></head><body bgcolor=\"#fff\"><script nonce=\"4lgMnxokJG1/lW+aQhchUA==\">(function(){var src=\\'/images/nav_logo229.png\\';var iesg=false;document.body.onload = function(){window.n && window.n();if (document.images){new Image().src=src;}\\nif (!iesg){document.f&&document.f.q.focus();document.gbqf&&document.gbqf.q.focus();}\\n}\\n})();</script><div id=\"mngb\"><div id=gbar><nobr><b class=gb1>검색</b> <a class=gb1 href=\"https://www.google.co.kr/imghp?hl=ko&tab=wi\">이미지</a> <a class=gb1 href=\"https://maps.google.co.kr/maps?hl=ko&tab=wl\">지도</a> <a class=gb1 href=\"https://play.google.com/?hl=ko&tab=w8\">Play</a> <a class=gb1 href=\"https://www.youtube.com/?gl=KR&tab=w1\">YouTube</a> <a class=gb1 href=\"https://news.google.com/?tab=wn\">뉴스</a> <a class=gb1 href=\"https://mail.google.com/mail/?tab=wm\">Gmail</a> <a class=gb1 href=\"https://drive.google.com/?tab=wo\">드라이브</a> <a class=gb1 style=\"text-decoration:none\" href=\"https://www.google.co.kr/intl/ko/about/products?tab=wh\"><u>더보기</u> &raquo;</a></nobr></div><div id=guser width=100%><nobr><span id=gbn class=gbi></span><span id=gbf class=gbf></span><span id=gbe></span><a href=\"http://www.google.co.kr/history/optout?hl=ko\" class=gb4>웹 기록</a> | <a  href=\"/preferences?hl=ko\" class=gb4>설정</a> | <a target=_top id=gb_70 href=\"https://accounts.google.com/ServiceLogin?hl=ko&passive=true&continue=https://www.google.co.kr/&ec=GAZAAQ\" class=gb4>로그인</a></nobr></div><div class=gbh style=left:0></div><div class=gbh style=right:0></div></div><center><br clear=\"all\" id=\"lgpd\"><div id=\"lga\"><a href=\"/search?ie=UTF-8&amp;q=%EC%84%B8%EA%B3%84+%EC%97%AC%EC%84%B1%EC%9D%98+%EB%82%A0&amp;oi=ddle&amp;ct=174786810&amp;hl=ko&amp;sa=X&amp;ved=0ahUKEwiV8eWbk6DvAhWbbN4KHfnpANwQPQgD\"><img alt=\"2021년 세계 여성의 날\" border=\"0\" height=\"220\" src=\"/logos/doodles/2021/international-womens-day-2021-6753651837108879.3-l.png\" title=\"2021년 세계 여성의 날\" width=\"391\" id=\"hplogo\"><br></a><br></div><form action=\"/search\" name=\"f\"><table cellpadding=\"0\" cellspacing=\"0\"><tr valign=\"top\"><td width=\"25%\">&nbsp;</td><td align=\"center\" nowrap=\"\"><input name=\"ie\" value=\"EUC-KR\" type=\"hidden\"><input value=\"ko\" name=\"hl\" type=\"hidden\"><input name=\"source\" type=\"hidden\" value=\"hp\"><input name=\"biw\" type=\"hidden\"><input name=\"bih\" type=\"hidden\"><div class=\"ds\" style=\"height:32px;margin:4px 0\"><div style=\"position:relative;zoom:1\"><input class=\"lst tiah\" style=\"margin:0;padding:5px 8px 0 6px;vertical-align:top;color:#000;padding-right:38px\" autocomplete=\"off\" value=\"\" title=\"Google 검색\" maxlength=\"2048\" name=\"q\" size=\"57\"><img src=\"/textinputassistant/tia.png\" style=\"position:absolute;cursor:pointer;right:5px;top:4px;z-index:300\" data-script-url=\"/textinputassistant/11/ko_tia.js\" id=\"tsuid1\" alt=\"\" height=\"23\" width=\"27\"><script nonce=\"4lgMnxokJG1/lW+aQhchUA==\">(function(){var id=\\'tsuid1\\';document.getElementById(id).onclick = function(){var s = document.createElement(\\'script\\');s.src = this.getAttribute(\\'data-script-url\\');(document.getElementById(\\'xjsc\\')||document.body).appendChild(s);};})();</script></div></div><br style=\"line-height:0\"><span class=\"ds\"><span class=\"lsbb\"><input class=\"lsb\" value=\"Google 검색\" name=\"btnG\" type=\"submit\"></span></span><span class=\"ds\"><span class=\"lsbb\"><input class=\"lsb\" id=\"tsuid2\" value=\"I’m Feeling Lucky\" name=\"btnI\" type=\"submit\"><script nonce=\"4lgMnxokJG1/lW+aQhchUA==\">(function(){var id=\\'tsuid2\\';document.getElementById(id).onclick = function(){if (this.form.q.value){this.checked = 1;if (this.form.iflsig)this.form.iflsig.disabled = false;}\\nelse top.location=\\'/doodles/\\';};})();</script><input value=\"AINFCbYAAAAAYEXdK0b_GCdhkVEv1HDHwNJ5KeQ0Y3b7\" name=\"iflsig\" type=\"hidden\"></span></span></td><td class=\"fl sblc\" align=\"left\" nowrap=\"\" width=\"25%\"><a href=\"/advanced_search?hl=ko&amp;authuser=0\">고급검색</a></td></tr></table><input id=\"gbv\" name=\"gbv\" type=\"hidden\" value=\"1\"><script nonce=\"4lgMnxokJG1/lW+aQhchUA==\">(function(){var a,b=\"1\";if(document&&document.getElementById)if(\"undefined\"!=typeof XMLHttpRequest)b=\"2\";else if(\"undefined\"!=typeof ActiveXObject){var c,d,e=[\"MSXML2.XMLHTTP.6.0\",\"MSXML2.XMLHTTP.3.0\",\"MSXML2.XMLHTTP\",\"Microsoft.XMLHTTP\"];for(c=0;d=e[c++];)try{new ActiveXObject(d),b=\"2\"}catch(h){}}a=b;if(\"2\"==a&&-1==location.search.indexOf(\"&gbv=2\")){var f=google.gbvu,g=document.getElementById(\"gbv\");g&&(g.value=a);f&&window.setTimeout(function(){location.href=f},0)};}).call(this);</script></form><div id=\"gac_scont\"></div><div style=\"font-size:83%;min-height:3.5em\"><br><div id=\"prm\"><style>.szppmdbYutt__middle-slot-promo{font-size:small;margin-bottom:32px}.szppmdbYutt__middle-slot-promo a.ZIeIlb{display:inline-block;text-decoration:none}.szppmdbYutt__middle-slot-promo img{border:none;margin-right:5px;vertical-align:middle}</style><div class=\"szppmdbYutt__middle-slot-promo\" data-ved=\"0ahUKEwiV8eWbk6DvAhWbbN4KHfnpANwQnIcBCAQ\"><a class=\"NKcBbd\" href=\"https://www.google.com/url?q=https://about.google/intl/ALL_kr/stories/trailblazing-women-in-history/%3Futm_source%3Dgoogle%26utm_medium%3Dhpp%26utm_campaign%3DKR-KO&amp;source=hpp&amp;id=19023203&amp;ct=3&amp;usg=AFQjCNEZ7IijjuOTFalcpyMUNUdNxrp2TQ&amp;sa=X&amp;ved=0ahUKEwiV8eWbk6DvAhWbbN4KHfnpANwQ8IcBCAU\" rel=\"nofollow\">세계 여성의 날을 맞아 다양한 분야에서 첫걸음을 내딛은 최초의 여성들을 만나보세요</a></div></div></div><span id=\"footer\"><div style=\"font-size:10pt\"><div style=\"margin:19px auto;text-align:center\" id=\"WqQANb\"><a href=\"/intl/ko/ads/\">광고 프로그램</a><a href=\"http://www.google.co.kr/intl/ko/services/\">비즈니스 솔루션</a><a href=\"/intl/ko/about.html\">Google 정보</a><a href=\"https://www.google.co.kr/setprefdomain?prefdom=US&amp;sig=K_nY2iv-I-te8DSnzOQ4Ite1MSBzM%3D\" id=\"fehl\">Google.com</a></div></div><p style=\"font-size:8pt;color:#70757a\">&copy; 2021 - <a href=\"/intl/ko/policies/privacy/\">개인정보처리방침</a> - <a href=\"/intl/ko/policies/terms/\">약관</a></p></span></center><script nonce=\"4lgMnxokJG1/lW+aQhchUA==\">(function(){window.google.cdo={height:0,width:0};(function(){var a=window.innerWidth,b=window.innerHeight;if(!a||!b){var c=window.document,d=\"CSS1Compat\"==c.compatMode?c.documentElement:c.body;a=d.clientWidth;b=d.clientHeight}a&&b&&(a!=google.cdo.width||b!=google.cdo.height)&&google.log(\"\",\"\",\"/client_204?&atyp=i&biw=\"+a+\"&bih=\"+b+\"&ei=\"+google.kEI);}).call(this);})();(function(){var u=\\'/xjs/_/js/k\\\\x3dxjs.hp.en.lHALn3aRwgs.O/m\\\\x3dsb_he,d/am\\\\x3dAHiCOA/d\\\\x3d1/rs\\\\x3dACT90oFh_K1-zImL_U7QWUBLJ4IsN7T3RQ\\';\\nvar d=this||self,e=/^[\\\\w+/_-]+[=]{0,2}$/,f=null,g=function(a){return(a=a.querySelector&&a.querySelector(\"script[nonce]\"))&&(a=a.nonce||a.getAttribute(\"nonce\"))&&e.test(a)?a:\"\"},h=function(a){return a};var l;var n=function(a,b){this.g=b===m?a:\"\"};n.prototype.toString=function(){return this.g+\"\"};var m={};function p(){var a=u;google.lx=function(){q(a);google.lx=function(){}};google.bx||google.lx()}\\nfunction q(a){var b=document;var c=\"SCRIPT\";\"application/xhtml+xml\"===b.contentType&&(c=c.toLowerCase());c=b.createElement(c);if(void 0===l){b=null;var k=d.trustedTypes;if(k&&k.createPolicy){try{b=k.createPolicy(\"goog#html\",{createHTML:h,createScript:h,createScriptURL:h})}catch(r){d.console&&d.console.error(r.message)}l=b}else l=b}a=(b=l)?b.createScriptURL(a):a;a=new n(a,m);c.src=a instanceof n&&a.constructor===n?a.g:\"type_error:TrustedResourceUrl\";(a=c.ownerDocument&&c.ownerDocument.defaultView)&&\\na!=d?a=g(a.document):(null===f&&(f=g(d.document)),a=f);a&&c.setAttribute(\"nonce\",a);google.timers&&google.timers.load&&google.tick&&google.tick(\"load\",\"xjsls\");document.body.appendChild(c)};setTimeout(function(){p()},0);})();(function(){window.google.xjsu=\\'/xjs/_/js/k\\\\x3dxjs.hp.en.lHALn3aRwgs.O/m\\\\x3dsb_he,d/am\\\\x3dAHiCOA/d\\\\x3d1/rs\\\\x3dACT90oFh_K1-zImL_U7QWUBLJ4IsN7T3RQ\\';})();function _DumpException(e){throw e;}\\nfunction _F_installCss(c){}\\n(function(){google.jl={blt:\\'none\\',dw:false,em:[],emw:false,lls:\\'default\\',pdt:0,snet:true,uwp:true};})();(function(){var pmc=\\'{\\\\x22d\\\\x22:{},\\\\x22sb_he\\\\x22:{\\\\x22agen\\\\x22:true,\\\\x22cgen\\\\x22:true,\\\\x22client\\\\x22:\\\\x22heirloom-hp\\\\x22,\\\\x22dh\\\\x22:true,\\\\x22dhqt\\\\x22:true,\\\\x22ds\\\\x22:\\\\x22\\\\x22,\\\\x22ffql\\\\x22:\\\\x22ko\\\\x22,\\\\x22fl\\\\x22:true,\\\\x22host\\\\x22:\\\\x22google.co.kr\\\\x22,\\\\x22isbh\\\\x22:28,\\\\x22jsonp\\\\x22:true,\\\\x22msgs\\\\x22:{\\\\x22cibl\\\\x22:\\\\x22검색어 지우기\\\\x22,\\\\x22dym\\\\x22:\\\\x22이것을 찾으셨나요?\\\\x22,\\\\x22lcky\\\\x22:\\\\x22I’m Feeling Lucky\\\\x22,\\\\x22lml\\\\x22:\\\\x22자세히 알아보기\\\\x22,\\\\x22oskt\\\\x22:\\\\x22입력 도구\\\\x22,\\\\x22psrc\\\\x22:\\\\x22검색어가 \\\\\\\\u003Ca href\\\\x3d\\\\\\\\\\\\x22/history\\\\\\\\\\\\x22\\\\\\\\u003E웹 기록\\\\\\\\u003C/a\\\\\\\\u003E에서 삭제되었습니다.\\\\x22,\\\\x22psrl\\\\x22:\\\\x22삭제\\\\x22,\\\\x22sbit\\\\x22:\\\\x22이미지로 검색\\\\x22,\\\\x22srch\\\\x22:\\\\x22Google 검색\\\\x22},\\\\x22nrft\\\\x22:false,\\\\x22ovr\\\\x22:{},\\\\x22pq\\\\x22:\\\\x22\\\\x22,\\\\x22refpd\\\\x22:true,\\\\x22refspre\\\\x22:true,\\\\x22rfs\\\\x22:[],\\\\x22sbas\\\\x22:\\\\x220 3px 8px 0 rgba(0,0,0,0.2),0 0 0 1px rgba(0,0,0,0.08)\\\\x22,\\\\x22sbpl\\\\x22:16,\\\\x22sbpr\\\\x22:16,\\\\x22scd\\\\x22:10,\\\\x22stok\\\\x22:\\\\x22EDW2-ePptfgHdqr5IbyfVCBfDt8\\\\x22,\\\\x22uhde\\\\x22:false}}\\';google.pmc=JSON.parse(pmc);})();</script>        </body></html>'"
      ]
     },
     "execution_count": 22,
     "metadata": {},
     "output_type": "execute_result"
    }
   ],
   "source": [
    "r.text"
   ]
  },
  {
   "cell_type": "code",
   "execution_count": 23,
   "metadata": {},
   "outputs": [
    {
     "data": {
      "text/plain": [
       "True"
      ]
     },
     "execution_count": 23,
     "metadata": {},
     "output_type": "execute_result"
    }
   ],
   "source": [
    "import webbrowser\n",
    "\n",
    "webbrowser.open('www.google.com')"
   ]
  },
  {
   "cell_type": "markdown",
   "metadata": {},
   "source": [
    "#### 3) HTML 소스코드를 분석하고 처리하기"
   ]
  },
  {
   "cell_type": "markdown",
   "metadata": {},
   "source": [
    "- 데이터 찾고 추출"
   ]
  },
  {
   "cell_type": "code",
   "execution_count": 25,
   "metadata": {},
   "outputs": [
    {
     "data": {
      "text/plain": [
       "<html><body><div><span> <a href=\"http://www.naver.com\">naver</a> <a href=\"http://www.google.com\">google</a> </span></div></body></html>"
      ]
     },
     "execution_count": 25,
     "metadata": {},
     "output_type": "execute_result"
    }
   ],
   "source": [
    "from bs4 import BeautifulSoup\n",
    "\n",
    "#test용 HTML\n",
    "html = \"\"\"<html><body><div><span>\\\n",
    "        <a href=http://www.naver.com>naver</a>\\\n",
    "        <a href=http://www.google.com>google</a>\\\n",
    "        </span></div></body></html>\n",
    "\"\"\"\n",
    "\n",
    "#BeautifulSoup를 이용해 HTML파싱\n",
    "soup = BeautifulSoup(html, 'lxml') #lxml은 소스를 처리하기 위한 파서임.\n",
    "soup"
   ]
  },
  {
   "cell_type": "code",
   "execution_count": 26,
   "metadata": {},
   "outputs": [
    {
     "name": "stdout",
     "output_type": "stream",
     "text": [
      "<html>\n",
      " <body>\n",
      "  <div>\n",
      "   <span>\n",
      "    <a href=\"http://www.naver.com\">\n",
      "     naver\n",
      "    </a>\n",
      "    <a href=\"http://www.google.com\">\n",
      "     google\n",
      "    </a>\n",
      "   </span>\n",
      "  </div>\n",
      " </body>\n",
      "</html>\n",
      "\n"
     ]
    }
   ],
   "source": [
    "print(soup.prettify())"
   ]
  },
  {
   "cell_type": "code",
   "execution_count": 28,
   "metadata": {},
   "outputs": [
    {
     "data": {
      "text/plain": [
       "<a href=\"http://www.naver.com\">naver</a>"
      ]
     },
     "execution_count": 28,
     "metadata": {},
     "output_type": "execute_result"
    }
   ],
   "source": [
    "#find메서드로 태그를 수행하면, 해당 태그가 있는 첫번째 요소를 뽑아준다\n",
    "soup.find('a')"
   ]
  },
  {
   "cell_type": "code",
   "execution_count": 29,
   "metadata": {},
   "outputs": [
    {
     "data": {
      "text/plain": [
       "'naver'"
      ]
     },
     "execution_count": 29,
     "metadata": {},
     "output_type": "execute_result"
    }
   ],
   "source": [
    "#텍스트만 추출하고자 한다면?\n",
    "soup.find('a').get_text()"
   ]
  },
  {
   "cell_type": "code",
   "execution_count": 30,
   "metadata": {},
   "outputs": [
    {
     "data": {
      "text/plain": [
       "[<a href=\"http://www.naver.com\">naver</a>,\n",
       " <a href=\"http://www.google.com\">google</a>]"
      ]
     },
     "execution_count": 30,
     "metadata": {},
     "output_type": "execute_result"
    }
   ],
   "source": [
    "#a라는 모든 태그를 찾고 싶다면?\n",
    "soup.find_all('a')"
   ]
  },
  {
   "cell_type": "code",
   "execution_count": 31,
   "metadata": {},
   "outputs": [
    {
     "name": "stdout",
     "output_type": "stream",
     "text": [
      "naver\n",
      "google\n"
     ]
    }
   ],
   "source": [
    "#get_text는 리스트에는 적용이 안 됨.\n",
    "#for 문을 써주면 된다. \n",
    "\n",
    "tag_list = soup.find_all('a')\n",
    "\n",
    "for i in tag_list : \n",
    "    print(i.get_text())"
   ]
  },
  {
   "cell_type": "code",
   "execution_count": 39,
   "metadata": {},
   "outputs": [],
   "source": [
    "#다른 예제를 가져와보자\n",
    "google_html = requests.get('http://www.google.com').text\n",
    "soup2 = BeautifulSoup(google_html, 'lxml')"
   ]
  },
  {
   "cell_type": "code",
   "execution_count": 41,
   "metadata": {},
   "outputs": [
    {
     "data": {
      "text/plain": [
       "<title>Google</title>"
      ]
     },
     "execution_count": 41,
     "metadata": {},
     "output_type": "execute_result"
    }
   ],
   "source": [
    "#타이틀 가져오기\n",
    "soup2.title"
   ]
  },
  {
   "cell_type": "code",
   "execution_count": 52,
   "metadata": {},
   "outputs": [
    {
     "data": {
      "text/plain": [
       "'검색 이미지 지도 Play YouTube 뉴스 Gmail 드라이브 더보기 »웹 기록 | 설정 | 로그인\\xa0고급검색세계 여성의 날을 맞아 다양한 분야에서 첫걸음을 내딛은 최초의 여성들을 만나보세요광고 프로그램비즈니스 솔루션Google 정보Google.co.kr© 2021 - 개인정보처리방침 - 약관 '"
      ]
     },
     "execution_count": 52,
     "metadata": {},
     "output_type": "execute_result"
    }
   ],
   "source": [
    "#body 가져오기\n",
    "soup2.body.text"
   ]
  },
  {
   "cell_type": "code",
   "execution_count": 53,
   "metadata": {},
   "outputs": [
    {
     "data": {
      "text/plain": [
       "'검색 이미지 지도 Play YouTube 뉴스 Gmail 드라이브 더보기 »웹 기록 | 설정 | 로그인\\xa0고급검색세계 여성의 날을 맞아 다양한 분야에서 첫걸음을 내딛은 최초의 여성들을 만나보세요광고 프로그램비즈니스 솔루션Google 정보Google.co.kr© 2021 - 개인정보처리방침 - 약관 '"
      ]
     },
     "execution_count": 53,
     "metadata": {},
     "output_type": "execute_result"
    }
   ],
   "source": [
    "soup2.body.get_text()"
   ]
  },
  {
   "cell_type": "code",
   "execution_count": 44,
   "metadata": {},
   "outputs": [
    {
     "name": "stdout",
     "output_type": "stream",
     "text": [
      "<body bgcolor=\"#fff\">\n",
      " <script nonce=\"r5ZaQtbttOfhWsCfTl8hSA==\">\n",
      "  (function(){var src='/images/nav_logo229.png';var iesg=false;document.body.onload = function(){window.n && window.n();if (document.images){new Image().src=src;}\n",
      "if (!iesg){document.f&&document.f.q.focus();document.gbqf&&document.gbqf.q.focus();}\n",
      "}\n",
      "})();\n",
      " </script>\n",
      " <div id=\"mngb\">\n",
      "  <div id=\"gbar\">\n",
      "   <nobr>\n",
      "    <b class=\"gb1\">\n",
      "     검색\n",
      "    </b>\n",
      "    <a class=\"gb1\" href=\"http://www.google.co.kr/imghp?hl=ko&amp;tab=wi\">\n",
      "     이미지\n",
      "    </a>\n",
      "    <a class=\"gb1\" href=\"http://maps.google.co.kr/maps?hl=ko&amp;tab=wl\">\n",
      "     지도\n",
      "    </a>\n",
      "    <a class=\"gb1\" href=\"https://play.google.com/?hl=ko&amp;tab=w8\">\n",
      "     Play\n",
      "    </a>\n",
      "    <a class=\"gb1\" href=\"http://www.youtube.com/?gl=KR&amp;tab=w1\">\n",
      "     YouTube\n",
      "    </a>\n",
      "    <a class=\"gb1\" href=\"https://news.google.com/?tab=wn\">\n",
      "     뉴스\n",
      "    </a>\n",
      "    <a class=\"gb1\" href=\"https://mail.google.com/mail/?tab=wm\">\n",
      "     Gmail\n",
      "    </a>\n",
      "    <a class=\"gb1\" href=\"https://drive.google.com/?tab=wo\">\n",
      "     드라이브\n",
      "    </a>\n",
      "    <a class=\"gb1\" href=\"https://www.google.co.kr/intl/ko/about/products?tab=wh\" style=\"text-decoration:none\">\n",
      "     <u>\n",
      "      더보기\n",
      "     </u>\n",
      "     »\n",
      "    </a>\n",
      "   </nobr>\n",
      "  </div>\n",
      "  <div id=\"guser\" width=\"100%\">\n",
      "   <nobr>\n",
      "    <span class=\"gbi\" id=\"gbn\">\n",
      "    </span>\n",
      "    <span class=\"gbf\" id=\"gbf\">\n",
      "    </span>\n",
      "    <span id=\"gbe\">\n",
      "    </span>\n",
      "    <a class=\"gb4\" href=\"http://www.google.co.kr/history/optout?hl=ko\">\n",
      "     웹 기록\n",
      "    </a>\n",
      "    |\n",
      "    <a class=\"gb4\" href=\"/preferences?hl=ko\">\n",
      "     설정\n",
      "    </a>\n",
      "    |\n",
      "    <a class=\"gb4\" href=\"https://accounts.google.com/ServiceLogin?hl=ko&amp;passive=true&amp;continue=http://www.google.com/&amp;ec=GAZAAQ\" id=\"gb_70\" target=\"_top\">\n",
      "     로그인\n",
      "    </a>\n",
      "   </nobr>\n",
      "  </div>\n",
      "  <div class=\"gbh\" style=\"left:0\">\n",
      "  </div>\n",
      "  <div class=\"gbh\" style=\"right:0\">\n",
      "  </div>\n",
      " </div>\n",
      " <center>\n",
      "  <br clear=\"all\" id=\"lgpd\"/>\n",
      "  <div id=\"lga\">\n",
      "   <a href=\"/search?ie=UTF-8&amp;q=%EC%84%B8%EA%B3%84+%EC%97%AC%EC%84%B1%EC%9D%98+%EB%82%A0&amp;oi=ddle&amp;ct=174786810&amp;hl=ko&amp;sa=X&amp;ved=0ahUKEwi3wPurlqDvAhWRZt4KHfNgA7sQPQgD\">\n",
      "    <img alt=\"2021년 세계 여성의 날\" border=\"0\" height=\"220\" id=\"hplogo\" src=\"/logos/doodles/2021/international-womens-day-2021-6753651837108879.3-l.png\" title=\"2021년 세계 여성의 날\" width=\"391\"/>\n",
      "    <br/>\n",
      "   </a>\n",
      "   <br/>\n",
      "  </div>\n",
      "  <form action=\"/search\" name=\"f\">\n",
      "   <table cellpadding=\"0\" cellspacing=\"0\">\n",
      "    <tr valign=\"top\">\n",
      "     <td width=\"25%\">\n",
      "     </td>\n",
      "     <td align=\"center\" nowrap=\"\">\n",
      "      <input name=\"ie\" type=\"hidden\" value=\"ISO-8859-1\"/>\n",
      "      <input name=\"hl\" type=\"hidden\" value=\"ko\"/>\n",
      "      <input name=\"source\" type=\"hidden\" value=\"hp\"/>\n",
      "      <input name=\"biw\" type=\"hidden\"/>\n",
      "      <input name=\"bih\" type=\"hidden\"/>\n",
      "      <div class=\"ds\" style=\"height:32px;margin:4px 0\">\n",
      "       <div style=\"position:relative;zoom:1\">\n",
      "        <input autocomplete=\"off\" class=\"lst tiah\" maxlength=\"2048\" name=\"q\" size=\"57\" style=\"margin:0;padding:5px 8px 0 6px;vertical-align:top;color:#000;padding-right:38px\" title=\"Google 검색\" value=\"\"/>\n",
      "        <img alt=\"\" data-script-url=\"/textinputassistant/11/ko_tia.js\" height=\"23\" id=\"tsuid1\" src=\"/textinputassistant/tia.png\" style=\"position:absolute;cursor:pointer;right:5px;top:4px;z-index:300\" width=\"27\"/>\n",
      "        <script nonce=\"r5ZaQtbttOfhWsCfTl8hSA==\">\n",
      "         (function(){var id='tsuid1';document.getElementById(id).onclick = function(){var s = document.createElement('script');s.src = this.getAttribute('data-script-url');(document.getElementById('xjsc')||document.body).appendChild(s);};})();\n",
      "        </script>\n",
      "       </div>\n",
      "      </div>\n",
      "      <br style=\"line-height:0\"/>\n",
      "      <span class=\"ds\">\n",
      "       <span class=\"lsbb\">\n",
      "        <input class=\"lsb\" name=\"btnG\" type=\"submit\" value=\"Google 검색\"/>\n",
      "       </span>\n",
      "      </span>\n",
      "      <span class=\"ds\">\n",
      "       <span class=\"lsbb\">\n",
      "        <input class=\"lsb\" id=\"tsuid2\" name=\"btnI\" type=\"submit\" value=\"I’m Feeling Lucky\"/>\n",
      "        <script nonce=\"r5ZaQtbttOfhWsCfTl8hSA==\">\n",
      "         (function(){var id='tsuid2';document.getElementById(id).onclick = function(){if (this.form.q.value){this.checked = 1;if (this.form.iflsig)this.form.iflsig.disabled = false;}\n",
      "else top.location='/doodles/';};})();\n",
      "        </script>\n",
      "        <input name=\"iflsig\" type=\"hidden\" value=\"AINFCbYAAAAAYEXgcxdzYkLI6agQtMvDI0BjXhUMBauq\"/>\n",
      "       </span>\n",
      "      </span>\n",
      "     </td>\n",
      "     <td align=\"left\" class=\"fl sblc\" nowrap=\"\" width=\"25%\">\n",
      "      <a href=\"/advanced_search?hl=ko&amp;authuser=0\">\n",
      "       고급검색\n",
      "      </a>\n",
      "     </td>\n",
      "    </tr>\n",
      "   </table>\n",
      "   <input id=\"gbv\" name=\"gbv\" type=\"hidden\" value=\"1\"/>\n",
      "   <script nonce=\"r5ZaQtbttOfhWsCfTl8hSA==\">\n",
      "    (function(){var a,b=\"1\";if(document&&document.getElementById)if(\"undefined\"!=typeof XMLHttpRequest)b=\"2\";else if(\"undefined\"!=typeof ActiveXObject){var c,d,e=[\"MSXML2.XMLHTTP.6.0\",\"MSXML2.XMLHTTP.3.0\",\"MSXML2.XMLHTTP\",\"Microsoft.XMLHTTP\"];for(c=0;d=e[c++];)try{new ActiveXObject(d),b=\"2\"}catch(h){}}a=b;if(\"2\"==a&&-1==location.search.indexOf(\"&gbv=2\")){var f=google.gbvu,g=document.getElementById(\"gbv\");g&&(g.value=a);f&&window.setTimeout(function(){location.href=f},0)};}).call(this);\n",
      "   </script>\n",
      "  </form>\n",
      "  <div id=\"gac_scont\">\n",
      "  </div>\n",
      "  <div style=\"font-size:83%;min-height:3.5em\">\n",
      "   <br/>\n",
      "   <div id=\"prm\">\n",
      "    <style>\n",
      "     .szppmdbYutt__middle-slot-promo{font-size:small;margin-bottom:32px}.szppmdbYutt__middle-slot-promo a.ZIeIlb{display:inline-block;text-decoration:none}.szppmdbYutt__middle-slot-promo img{border:none;margin-right:5px;vertical-align:middle}\n",
      "    </style>\n",
      "    <div class=\"szppmdbYutt__middle-slot-promo\" data-ved=\"0ahUKEwi3wPurlqDvAhWRZt4KHfNgA7sQnIcBCAQ\">\n",
      "     <a class=\"NKcBbd\" href=\"https://www.google.com/url?q=https://about.google/intl/ALL_kr/stories/trailblazing-women-in-history/%3Futm_source%3Dgoogle%26utm_medium%3Dhpp%26utm_campaign%3DKR-KO&amp;source=hpp&amp;id=19023203&amp;ct=3&amp;usg=AFQjCNEZ7IijjuOTFalcpyMUNUdNxrp2TQ&amp;sa=X&amp;ved=0ahUKEwi3wPurlqDvAhWRZt4KHfNgA7sQ8IcBCAU\" rel=\"nofollow\">\n",
      "      세계 여성의 날을 맞아 다양한 분야에서 첫걸음을 내딛은 최초의 여성들을 만나보세요\n",
      "     </a>\n",
      "    </div>\n",
      "   </div>\n",
      "  </div>\n",
      "  <span id=\"footer\">\n",
      "   <div style=\"font-size:10pt\">\n",
      "    <div id=\"WqQANb\" style=\"margin:19px auto;text-align:center\">\n",
      "     <a href=\"/intl/ko/ads/\">\n",
      "      광고 프로그램\n",
      "     </a>\n",
      "     <a href=\"http://www.google.co.kr/intl/ko/services/\">\n",
      "      비즈니스 솔루션\n",
      "     </a>\n",
      "     <a href=\"/intl/ko/about.html\">\n",
      "      Google 정보\n",
      "     </a>\n",
      "     <a href=\"http://www.google.com/setprefdomain?prefdom=KR&amp;prev=http://www.google.co.kr/&amp;sig=K_z9OnHbo87fjuTxoOytwD8JmcA08%3D\">\n",
      "      Google.co.kr\n",
      "     </a>\n",
      "    </div>\n",
      "   </div>\n",
      "   <p style=\"font-size:8pt;color:#70757a\">\n",
      "    © 2021 -\n",
      "    <a href=\"/intl/ko/policies/privacy/\">\n",
      "     개인정보처리방침\n",
      "    </a>\n",
      "    -\n",
      "    <a href=\"/intl/ko/policies/terms/\">\n",
      "     약관\n",
      "    </a>\n",
      "   </p>\n",
      "  </span>\n",
      " </center>\n",
      " <script nonce=\"r5ZaQtbttOfhWsCfTl8hSA==\">\n",
      "  (function(){window.google.cdo={height:0,width:0};(function(){var a=window.innerWidth,b=window.innerHeight;if(!a||!b){var c=window.document,d=\"CSS1Compat\"==c.compatMode?c.documentElement:c.body;a=d.clientWidth;b=d.clientHeight}a&&b&&(a!=google.cdo.width||b!=google.cdo.height)&&google.log(\"\",\"\",\"/client_204?&atyp=i&biw=\"+a+\"&bih=\"+b+\"&ei=\"+google.kEI);}).call(this);})();(function(){var u='/xjs/_/js/k\\x3dxjs.hp.en.lHALn3aRwgs.O/m\\x3dsb_he,d/am\\x3dAHiCOA/d\\x3d1/rs\\x3dACT90oFh_K1-zImL_U7QWUBLJ4IsN7T3RQ';\n",
      "var d=this||self,e=/^[\\w+/_-]+[=]{0,2}$/,f=null,g=function(a){return(a=a.querySelector&&a.querySelector(\"script[nonce]\"))&&(a=a.nonce||a.getAttribute(\"nonce\"))&&e.test(a)?a:\"\"},h=function(a){return a};var l;var n=function(a,b){this.g=b===m?a:\"\"};n.prototype.toString=function(){return this.g+\"\"};var m={};function p(){var a=u;google.lx=function(){q(a);google.lx=function(){}};google.bx||google.lx()}\n",
      "function q(a){var b=document;var c=\"SCRIPT\";\"application/xhtml+xml\"===b.contentType&&(c=c.toLowerCase());c=b.createElement(c);if(void 0===l){b=null;var k=d.trustedTypes;if(k&&k.createPolicy){try{b=k.createPolicy(\"goog#html\",{createHTML:h,createScript:h,createScriptURL:h})}catch(r){d.console&&d.console.error(r.message)}l=b}else l=b}a=(b=l)?b.createScriptURL(a):a;a=new n(a,m);c.src=a instanceof n&&a.constructor===n?a.g:\"type_error:TrustedResourceUrl\";(a=c.ownerDocument&&c.ownerDocument.defaultView)&&\n",
      "a!=d?a=g(a.document):(null===f&&(f=g(d.document)),a=f);a&&c.setAttribute(\"nonce\",a);google.timers&&google.timers.load&&google.tick&&google.tick(\"load\",\"xjsls\");document.body.appendChild(c)};setTimeout(function(){p()},0);})();(function(){window.google.xjsu='/xjs/_/js/k\\x3dxjs.hp.en.lHALn3aRwgs.O/m\\x3dsb_he,d/am\\x3dAHiCOA/d\\x3d1/rs\\x3dACT90oFh_K1-zImL_U7QWUBLJ4IsN7T3RQ';})();function _DumpException(e){throw e;}\n",
      "function _F_installCss(c){}\n",
      "(function(){google.jl={blt:'none',dw:false,em:[],emw:false,lls:'default',pdt:0,snet:true,uwp:true};})();(function(){var pmc='{\\x22d\\x22:{},\\x22sb_he\\x22:{\\x22agen\\x22:true,\\x22cgen\\x22:true,\\x22client\\x22:\\x22heirloom-hp\\x22,\\x22dh\\x22:true,\\x22dhqt\\x22:true,\\x22ds\\x22:\\x22\\x22,\\x22ffql\\x22:\\x22ko\\x22,\\x22fl\\x22:true,\\x22host\\x22:\\x22google.com\\x22,\\x22isbh\\x22:28,\\x22jsonp\\x22:true,\\x22msgs\\x22:{\\x22cibl\\x22:\\x22&#44160;&#49353;&#50612; &#51648;&#50864;&#44592;\\x22,\\x22dym\\x22:\\x22&#51060;&#44163;&#51012; &#52286;&#51004;&#49512;&#45208;&#50836;?\\x22,\\x22lcky\\x22:\\x22I&#8217;m Feeling Lucky\\x22,\\x22lml\\x22:\\x22&#51088;&#49464;&#55176; &#50508;&#50500;&#48372;&#44592;\\x22,\\x22oskt\\x22:\\x22&#51077;&#47141; &#46020;&#44396;\\x22,\\x22psrc\\x22:\\x22&#44160;&#49353;&#50612;&#44032; \\\\u003Ca href\\x3d\\\\\\x22/history\\\\\\x22\\\\u003E&#50937; &#44592;&#47197;\\\\u003C/a\\\\u003E&#50640;&#49436; &#49325;&#51228;&#46104;&#50632;&#49845;&#45768;&#45796;.\\x22,\\x22psrl\\x22:\\x22&#49325;&#51228;\\x22,\\x22sbit\\x22:\\x22&#51060;&#48120;&#51648;&#47196; &#44160;&#49353;\\x22,\\x22srch\\x22:\\x22Google &#44160;&#49353;\\x22},\\x22nrft\\x22:false,\\x22ovr\\x22:{},\\x22pq\\x22:\\x22\\x22,\\x22refpd\\x22:true,\\x22refspre\\x22:true,\\x22rfs\\x22:[],\\x22sbas\\x22:\\x220 3px 8px 0 rgba(0,0,0,0.2),0 0 0 1px rgba(0,0,0,0.08)\\x22,\\x22sbpl\\x22:16,\\x22sbpr\\x22:16,\\x22scd\\x22:10,\\x22stok\\x22:\\x223GYZoi8G81d_8aFEN9ScLoFt8t8\\x22,\\x22uhde\\x22:false}}';google.pmc=JSON.parse(pmc);})();\n",
      " </script>\n",
      "</body>\n"
     ]
    }
   ],
   "source": [
    "print(soup2.body.prettify())"
   ]
  },
  {
   "cell_type": "code",
   "execution_count": 58,
   "metadata": {},
   "outputs": [
    {
     "data": {
      "text/plain": [
       "[<a class=\"gb1\" href=\"http://www.google.co.kr/imghp?hl=ko&amp;tab=wi\">이미지</a>,\n",
       " <a class=\"gb1\" href=\"http://maps.google.co.kr/maps?hl=ko&amp;tab=wl\">지도</a>,\n",
       " <a class=\"gb1\" href=\"https://play.google.com/?hl=ko&amp;tab=w8\">Play</a>,\n",
       " <a class=\"gb1\" href=\"http://www.youtube.com/?gl=KR&amp;tab=w1\">YouTube</a>,\n",
       " <a class=\"gb1\" href=\"https://news.google.com/?tab=wn\">뉴스</a>,\n",
       " <a class=\"gb1\" href=\"https://mail.google.com/mail/?tab=wm\">Gmail</a>,\n",
       " <a class=\"gb1\" href=\"https://drive.google.com/?tab=wo\">드라이브</a>,\n",
       " <a class=\"gb1\" href=\"https://www.google.co.kr/intl/ko/about/products?tab=wh\" style=\"text-decoration:none\"><u>더보기</u> »</a>,\n",
       " <a class=\"gb4\" href=\"http://www.google.co.kr/history/optout?hl=ko\">웹 기록</a>,\n",
       " <a class=\"gb4\" href=\"/preferences?hl=ko\">설정</a>,\n",
       " <a class=\"gb4\" href=\"https://accounts.google.com/ServiceLogin?hl=ko&amp;passive=true&amp;continue=http://www.google.com/&amp;ec=GAZAAQ\" id=\"gb_70\" target=\"_top\">로그인</a>,\n",
       " <a href=\"/search?ie=UTF-8&amp;q=%EC%84%B8%EA%B3%84+%EC%97%AC%EC%84%B1%EC%9D%98+%EB%82%A0&amp;oi=ddle&amp;ct=174786810&amp;hl=ko&amp;sa=X&amp;ved=0ahUKEwi3wPurlqDvAhWRZt4KHfNgA7sQPQgD\"><img alt=\"2021년 세계 여성의 날\" border=\"0\" height=\"220\" id=\"hplogo\" src=\"/logos/doodles/2021/international-womens-day-2021-6753651837108879.3-l.png\" title=\"2021년 세계 여성의 날\" width=\"391\"/><br/></a>,\n",
       " <a href=\"/advanced_search?hl=ko&amp;authuser=0\">고급검색</a>,\n",
       " <a class=\"NKcBbd\" href=\"https://www.google.com/url?q=https://about.google/intl/ALL_kr/stories/trailblazing-women-in-history/%3Futm_source%3Dgoogle%26utm_medium%3Dhpp%26utm_campaign%3DKR-KO&amp;source=hpp&amp;id=19023203&amp;ct=3&amp;usg=AFQjCNEZ7IijjuOTFalcpyMUNUdNxrp2TQ&amp;sa=X&amp;ved=0ahUKEwi3wPurlqDvAhWRZt4KHfNgA7sQ8IcBCAU\" rel=\"nofollow\">세계 여성의 날을 맞아 다양한 분야에서 첫걸음을 내딛은 최초의 여성들을 만나보세요</a>,\n",
       " <a href=\"/intl/ko/ads/\">광고 프로그램</a>,\n",
       " <a href=\"http://www.google.co.kr/intl/ko/services/\">비즈니스 솔루션</a>,\n",
       " <a href=\"/intl/ko/about.html\">Google 정보</a>,\n",
       " <a href=\"http://www.google.com/setprefdomain?prefdom=KR&amp;prev=http://www.google.co.kr/&amp;sig=K_z9OnHbo87fjuTxoOytwD8JmcA08%3D\">Google.co.kr</a>,\n",
       " <a href=\"/intl/ko/policies/privacy/\">개인정보처리방침</a>,\n",
       " <a href=\"/intl/ko/policies/terms/\">약관</a>]"
      ]
     },
     "execution_count": 58,
     "metadata": {},
     "output_type": "execute_result"
    }
   ],
   "source": [
    "soup2.body.find_all('a')"
   ]
  },
  {
   "cell_type": "code",
   "execution_count": 64,
   "metadata": {},
   "outputs": [
    {
     "data": {
      "text/plain": [
       "[<a class=\"gb1\" href=\"http://www.google.co.kr/imghp?hl=ko&amp;tab=wi\">이미지</a>,\n",
       " <a class=\"gb1\" href=\"http://maps.google.co.kr/maps?hl=ko&amp;tab=wl\">지도</a>,\n",
       " <a class=\"gb1\" href=\"https://play.google.com/?hl=ko&amp;tab=w8\">Play</a>,\n",
       " <a class=\"gb1\" href=\"http://www.youtube.com/?gl=KR&amp;tab=w1\">YouTube</a>,\n",
       " <a class=\"gb1\" href=\"https://news.google.com/?tab=wn\">뉴스</a>,\n",
       " <a class=\"gb1\" href=\"https://mail.google.com/mail/?tab=wm\">Gmail</a>,\n",
       " <a class=\"gb1\" href=\"https://drive.google.com/?tab=wo\">드라이브</a>,\n",
       " <a class=\"gb1\" href=\"https://www.google.co.kr/intl/ko/about/products?tab=wh\" style=\"text-decoration:none\"><u>더보기</u> »</a>]"
      ]
     },
     "execution_count": 64,
     "metadata": {},
     "output_type": "execute_result"
    }
   ],
   "source": [
    "#태그 내의 속성도 가져오면 된다 \n",
    "soup2.find_all('a', {'class':'gb1'}) #이거처럼 class랑 href가 있을 경우에는 어떻게 해야하는지 잘 모르겠음"
   ]
  },
  {
   "cell_type": "markdown",
   "metadata": {},
   "source": [
    "CSS를 활용하려면 select 메서드를 활용하면 된다."
   ]
  },
  {
   "cell_type": "code",
   "execution_count": 65,
   "metadata": {},
   "outputs": [
    {
     "data": {
      "text/plain": [
       "[<a class=\"gb1\" href=\"http://www.google.co.kr/imghp?hl=ko&amp;tab=wi\">이미지</a>,\n",
       " <a class=\"gb1\" href=\"http://maps.google.co.kr/maps?hl=ko&amp;tab=wl\">지도</a>,\n",
       " <a class=\"gb1\" href=\"https://play.google.com/?hl=ko&amp;tab=w8\">Play</a>,\n",
       " <a class=\"gb1\" href=\"http://www.youtube.com/?gl=KR&amp;tab=w1\">YouTube</a>,\n",
       " <a class=\"gb1\" href=\"https://news.google.com/?tab=wn\">뉴스</a>,\n",
       " <a class=\"gb1\" href=\"https://mail.google.com/mail/?tab=wm\">Gmail</a>,\n",
       " <a class=\"gb1\" href=\"https://drive.google.com/?tab=wo\">드라이브</a>,\n",
       " <a class=\"gb1\" href=\"https://www.google.co.kr/intl/ko/about/products?tab=wh\" style=\"text-decoration:none\"><u>더보기</u> »</a>,\n",
       " <a class=\"gb4\" href=\"http://www.google.co.kr/history/optout?hl=ko\">웹 기록</a>,\n",
       " <a class=\"gb4\" href=\"/preferences?hl=ko\">설정</a>,\n",
       " <a class=\"gb4\" href=\"https://accounts.google.com/ServiceLogin?hl=ko&amp;passive=true&amp;continue=http://www.google.com/&amp;ec=GAZAAQ\" id=\"gb_70\" target=\"_top\">로그인</a>,\n",
       " <a href=\"/search?ie=UTF-8&amp;q=%EC%84%B8%EA%B3%84+%EC%97%AC%EC%84%B1%EC%9D%98+%EB%82%A0&amp;oi=ddle&amp;ct=174786810&amp;hl=ko&amp;sa=X&amp;ved=0ahUKEwi3wPurlqDvAhWRZt4KHfNgA7sQPQgD\"><img alt=\"2021년 세계 여성의 날\" border=\"0\" height=\"220\" id=\"hplogo\" src=\"/logos/doodles/2021/international-womens-day-2021-6753651837108879.3-l.png\" title=\"2021년 세계 여성의 날\" width=\"391\"/><br/></a>,\n",
       " <a href=\"/advanced_search?hl=ko&amp;authuser=0\">고급검색</a>,\n",
       " <a class=\"NKcBbd\" href=\"https://www.google.com/url?q=https://about.google/intl/ALL_kr/stories/trailblazing-women-in-history/%3Futm_source%3Dgoogle%26utm_medium%3Dhpp%26utm_campaign%3DKR-KO&amp;source=hpp&amp;id=19023203&amp;ct=3&amp;usg=AFQjCNEZ7IijjuOTFalcpyMUNUdNxrp2TQ&amp;sa=X&amp;ved=0ahUKEwi3wPurlqDvAhWRZt4KHfNgA7sQ8IcBCAU\" rel=\"nofollow\">세계 여성의 날을 맞아 다양한 분야에서 첫걸음을 내딛은 최초의 여성들을 만나보세요</a>,\n",
       " <a href=\"/intl/ko/ads/\">광고 프로그램</a>,\n",
       " <a href=\"http://www.google.co.kr/intl/ko/services/\">비즈니스 솔루션</a>,\n",
       " <a href=\"/intl/ko/about.html\">Google 정보</a>,\n",
       " <a href=\"http://www.google.com/setprefdomain?prefdom=KR&amp;prev=http://www.google.co.kr/&amp;sig=K_z9OnHbo87fjuTxoOytwD8JmcA08%3D\">Google.co.kr</a>,\n",
       " <a href=\"/intl/ko/policies/privacy/\">개인정보처리방침</a>,\n",
       " <a href=\"/intl/ko/policies/terms/\">약관</a>]"
      ]
     },
     "execution_count": 65,
     "metadata": {},
     "output_type": "execute_result"
    }
   ],
   "source": [
    "soup2.select('body a')"
   ]
  },
  {
   "cell_type": "code",
   "execution_count": 69,
   "metadata": {},
   "outputs": [
    {
     "data": {
      "text/plain": [
       "[<a class=\"gb1\" href=\"http://www.google.co.kr/imghp?hl=ko&amp;tab=wi\">이미지</a>,\n",
       " <a class=\"gb1\" href=\"http://maps.google.co.kr/maps?hl=ko&amp;tab=wl\">지도</a>,\n",
       " <a class=\"gb1\" href=\"https://play.google.com/?hl=ko&amp;tab=w8\">Play</a>,\n",
       " <a class=\"gb1\" href=\"http://www.youtube.com/?gl=KR&amp;tab=w1\">YouTube</a>,\n",
       " <a class=\"gb1\" href=\"https://news.google.com/?tab=wn\">뉴스</a>,\n",
       " <a class=\"gb1\" href=\"https://mail.google.com/mail/?tab=wm\">Gmail</a>,\n",
       " <a class=\"gb1\" href=\"https://drive.google.com/?tab=wo\">드라이브</a>,\n",
       " <a class=\"gb1\" href=\"https://www.google.co.kr/intl/ko/about/products?tab=wh\" style=\"text-decoration:none\"><u>더보기</u> »</a>]"
      ]
     },
     "execution_count": 69,
     "metadata": {},
     "output_type": "execute_result"
    }
   ],
   "source": [
    "soup2.select('body a.gb1')"
   ]
  },
  {
   "cell_type": "markdown",
   "metadata": {},
   "source": [
    "> 속성이 class라면 태그.속성값\n",
    "\n",
    "> 속성이 id라면 태그#속성값\n",
    "\n",
    "이렇게 해주면 된다"
   ]
  },
  {
   "cell_type": "markdown",
   "metadata": {},
   "source": [
    "> href는 요소인 것 같다"
   ]
  },
  {
   "cell_type": "markdown",
   "metadata": {},
   "source": [
    "- 줄 바꿈"
   ]
  },
  {
   "cell_type": "code",
   "execution_count": 2,
   "metadata": {},
   "outputs": [
    {
     "name": "stdout",
     "output_type": "stream",
     "text": [
      "Writing c:/python/br_example.html\n"
     ]
    }
   ],
   "source": [
    "%%writefile c:/python/br_example.html\n",
    "    <!doctype html>\n",
    "    <html>\n",
    "        <head>\n",
    "            <meta charset = 'utf-8'>\n",
    "            <title>줄 바꿈 테스트 예제</title>\n",
    "        </head>\n",
    "        <body>\n",
    "            <p id = 'title'><b>대한민국헌법</b></p>\n",
    "            <p id = 'content'>제1조<br/>1.대한민국은 민주공화국이다.<br/>2.대한민국의 주권은 국민에게 있고, 모든 권력은 국민으로부터 나온다.</p>\n",
    "            <p id = 'content'>제2조<br/>1.대한민국의 국민이 되는 요건은 법률로 정한다.<br/>2.국가는 법률이 정하는 바에 의하여 재외국민을 보호할 의무를 진다.</p>\n",
    "        </body>\n",
    "    </html>"
   ]
  },
  {
   "cell_type": "code",
   "execution_count": 5,
   "metadata": {},
   "outputs": [
    {
     "name": "stdout",
     "output_type": "stream",
     "text": [
      "대한민국헌법\n",
      "제1조1.대한민국은 민주공화국이다.2.대한민국의 주권은 국민에게 있고, 모든 권력은 국민으로부터 나온다.\n",
      "제2조1.대한민국의 국민이 되는 요건은 법률로 정한다.2.국가는 법률이 정하는 바에 의하여 재외국민을 보호할 의무를 진다.\n"
     ]
    }
   ],
   "source": [
    "from bs4 import BeautifulSoup\n",
    "\n",
    "f = open('c:/python/br_example.html', encoding = 'utf-8')\n",
    "\n",
    "html_source = f.read()\n",
    "f.close()\n",
    "\n",
    "soup = BeautifulSoup(html_source, 'lxml')\n",
    "\n",
    "title = soup.find('p', {'id' : 'title'})\n",
    "contents = soup.find_all('p', {'id' : 'content'})\n",
    "\n",
    "print(title.get_text())\n",
    "for content in contents : \n",
    "    print(content.get_text())"
   ]
  },
  {
   "cell_type": "code",
   "execution_count": 6,
   "metadata": {},
   "outputs": [
    {
     "name": "stdout",
     "output_type": "stream",
     "text": [
      "==> 태그 p로 찾은 요소\n",
      "<p id=\"content\">제1조<br/>1.대한민국은 민주공화국이다.<br/>2.대한민국의 주권은 국민에게 있고, 모든 권력은 국민으로부터 나온다.</p>\n",
      "==> 결과에서 태그 br로 찾은 요소 :  <br/>\n",
      "==> 태그 br을 개행문자로 바꾼 결과\n",
      "<p id=\"content\">제1조\n",
      "1.대한민국은 민주공화국이다.<br/>2.대한민국의 주권은 국민에게 있고, 모든 권력은 국민으로부터 나온다.</p>\n"
     ]
    }
   ],
   "source": [
    "html1 = '<p id = \"content\">제1조<br/>1.대한민국은 민주공화국이다.<br/>2.대한민국의 주권은 국민에게 있고, 모든 권력은 국민으로부터 나온다.</p>'\n",
    "\n",
    "soup1 = BeautifulSoup(html1, 'lxml')\n",
    "\n",
    "print('==> 태그 p로 찾은 요소')\n",
    "content1 = soup1.find('p', {'id' : 'content'})\n",
    "print(content1)\n",
    "\n",
    "br_content = content1.find('br')\n",
    "print(\"==> 결과에서 태그 br로 찾은 요소 : \", br_content)\n",
    "\n",
    "br_content.replace_with('\\n')\n",
    "print('==> 태그 br을 개행문자로 바꾼 결과')\n",
    "print(content1)"
   ]
  },
  {
   "cell_type": "code",
   "execution_count": null,
   "metadata": {},
   "outputs": [],
   "source": []
  }
 ],
 "metadata": {
  "kernelspec": {
   "display_name": "Python 3",
   "language": "python",
   "name": "python3"
  },
  "language_info": {
   "codemirror_mode": {
    "name": "ipython",
    "version": 3
   },
   "file_extension": ".py",
   "mimetype": "text/x-python",
   "name": "python",
   "nbconvert_exporter": "python",
   "pygments_lexer": "ipython3",
   "version": "3.8.5"
  }
 },
 "nbformat": 4,
 "nbformat_minor": 4
}
